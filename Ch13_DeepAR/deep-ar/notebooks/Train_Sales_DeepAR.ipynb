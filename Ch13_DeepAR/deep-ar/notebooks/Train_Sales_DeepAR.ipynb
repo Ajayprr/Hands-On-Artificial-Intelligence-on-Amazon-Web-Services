{
 "cells": [
  {
   "cell_type": "markdown",
   "metadata": {},
   "source": [
    "### Install pre-defined functions to prepare retail sales data "
   ]
  },
  {
   "cell_type": "code",
   "execution_count": 1,
   "metadata": {},
   "outputs": [],
   "source": [
    "import os\n",
    "import shutil\n",
    "import sagemaker.amazon.common as smac    \n",
    "from sagemaker.amazon.amazon_estimator import get_image_uri\n",
    "import sagemaker\n",
    "from sagemaker import get_execution_role\n",
    "import boto3"
   ]
  },
  {
   "cell_type": "code",
   "execution_count": 2,
   "metadata": {},
   "outputs": [
    {
     "name": "stdout",
     "output_type": "stream",
     "text": [
      "Processing /home/ec2-user/SageMaker/DeepAR/Final/deep-ar\n",
      "Building wheels for collected packages: deepar\n",
      "  Running setup.py bdist_wheel for deepar ... \u001b[?25ldone\n",
      "\u001b[?25h  Stored in directory: /home/ec2-user/.cache/pip/wheels/3a/79/48/5c4dfb39692cbccf9e13a11f7b63564ae85fc1658e1fd526cc\n",
      "Successfully built deepar\n",
      "Installing collected packages: deepar\n",
      "Successfully installed deepar-0.0.0\n",
      "\u001b[33mYou are using pip version 10.0.1, however version 18.1 is available.\n",
      "You should consider upgrading via the 'pip install --upgrade pip' command.\u001b[0m\n",
      "/home/ec2-user/SageMaker/DeepAR/Final/deep-ar\n"
     ]
    }
   ],
   "source": [
    "#Navidate to deep-ar directory to install the deepar package containing commonly used functions\n",
    "path = \"..\"\n",
    "os.chdir(path)\n",
    "\n",
    "#install predefined functions\n",
    "!pip install .\n",
    "\n",
    "#Navigate to the parent directory to train the DeepAR model\n",
    "# org_path = \"..\"\n",
    "# os.chdir(org_path)\n",
    "\n",
    "!pwd"
   ]
  },
  {
   "cell_type": "code",
   "execution_count": 3,
   "metadata": {},
   "outputs": [],
   "source": [
    "import deepar as da"
   ]
  },
  {
   "cell_type": "markdown",
   "metadata": {},
   "source": [
    "### Prepare training and test dataset in JSON format"
   ]
  },
  {
   "cell_type": "code",
   "execution_count": 4,
   "metadata": {},
   "outputs": [],
   "source": [
    "train_key      = 'deepar_sales_training.json'\n",
    "test_key       = 'deepar_sales_test.json'\n",
    "#Prediction and context length for training the DeepAR model\n",
    "prediction_length = 9\n",
    "salesfn = 'data/store20_sales.csv'\n",
    "\n",
    "salesdf = da.retailsales.prepareSalesData(salesfn)\n",
    "testSet = da.retailsales.getTestSales(salesdf, test_key)\n",
    "trainingSet = da.retailsales.getTrainSales(salesdf, train_key, prediction_length)"
   ]
  },
  {
   "cell_type": "markdown",
   "metadata": {},
   "source": [
    "### Upload Input data to S3"
   ]
  },
  {
   "cell_type": "code",
   "execution_count": 5,
   "metadata": {},
   "outputs": [],
   "source": [
    "bucket         = 'ai-in-aws'\n",
    "prefix         = 'sagemaker/deepar-weekly-sales'\n",
    "\n",
    "train_prefix   = '{}/{}'.format(prefix, 'train')\n",
    "test_prefix    = '{}/{}'.format(prefix, 'test')\n",
    "output_prefix  = '{}/{}'.format(prefix, 'output')\n",
    "\n",
    "sagemaker_session = sagemaker.Session()\n",
    "\n",
    "train_path = sagemaker_session.upload_data(train_key, bucket=bucket, key_prefix=train_prefix)\n",
    "test_path = sagemaker_session.upload_data(test_key, bucket=bucket, key_prefix=test_prefix)"
   ]
  },
  {
   "cell_type": "markdown",
   "metadata": {},
   "source": [
    "### Configuring the training job"
   ]
  },
  {
   "cell_type": "code",
   "execution_count": 7,
   "metadata": {},
   "outputs": [],
   "source": [
    "role = get_execution_role()\n",
    "output_path = r's3://{0}/{1}'.format(bucket, output_prefix) \n",
    "\n",
    "container = get_image_uri(boto3.Session().region_name, 'forecasting-deepar')\n",
    "\n",
    "deepAR = sagemaker.estimator.Estimator(container,\n",
    "                                   role,\n",
    "                                   train_instance_count=1,\n",
    "                                   train_instance_type='ml.c4.xlarge',\n",
    "                                   output_path=output_path,\n",
    "                                   sagemaker_session=sagemaker_session)"
   ]
  },
  {
   "cell_type": "markdown",
   "metadata": {},
   "source": [
    "### Defining hyper parameters"
   ]
  },
  {
   "cell_type": "code",
   "execution_count": 8,
   "metadata": {},
   "outputs": [],
   "source": [
    "hyperparameters = {\n",
    "    \"time_freq\": 'W', # weekly series\n",
    "    \"context_length\": prediction_length, # how many data points are we going to look at before predicting\n",
    "    \"prediction_length\": prediction_length, # number of data points to predict\n",
    "    \"num_cells\": \"40\", # of cells to use in each of the hidden layers\n",
    "    \"num_layers\": \"2\", # of hidden layers\n",
    "    \"likelihood\": \"gaussian\",\n",
    "    \"epochs\": \"300\", # max number of passses over the training data\n",
    "    \"mini_batch_size\": \"32\", # size of the mini batches used during training\n",
    "    \"learning_rate\": \"0.00001\",\n",
    "    \"dropout_rate\": \"0.05\", #for each iteration, a random subset of hidden neurons are not updated\n",
    "    \"early_stopping_patience\": \"10\" # stop if loss hasn't improved in 10 epochs\n",
    "}\n",
    "\n",
    "deepAR.set_hyperparameters(**hyperparameters) #** = arbitrary number of arguments to functions"
   ]
  },
  {
   "cell_type": "markdown",
   "metadata": {},
   "source": [
    "### Training the model"
   ]
  },
  {
   "cell_type": "code",
   "execution_count": 17,
   "metadata": {},
   "outputs": [
    {
     "name": "stderr",
     "output_type": "stream",
     "text": [
      "INFO:sagemaker:Creating training-job with name: forecasting-deepar-2018-12-05-17-33-07-661\n"
     ]
    },
    {
     "name": "stdout",
     "output_type": "stream",
     "text": [
      "2018-12-05 17:33:07 Starting - Starting the training job...\n",
      "2018-12-05 17:33:11 Starting - Launching requested ML instances......\n",
      "2018-12-05 17:34:20 Starting - Preparing the instances for training......\n",
      "2018-12-05 17:35:31 Downloading - Downloading input data..\n",
      "\n",
      "2018-12-05 17:36:03 Training - Training image download completed. Training in progress.\n",
      "2018-12-05 17:36:03 Uploading - Uploading generated training model\u001b[31mArguments: train\u001b[0m\n",
      "\u001b[31m[12/05/2018 17:35:54 INFO 140654853965632] Reading default configuration from /opt/amazon/lib/python2.7/site-packages/algorithm/default-input.json: {u'num_dynamic_feat': u'auto', u'dropout_rate': u'0.10', u'mini_batch_size': u'128', u'test_quantiles': u'[0.1, 0.2, 0.3, 0.4, 0.5, 0.6, 0.7, 0.8, 0.9]', u'_tuning_objective_metric': u'', u'_num_gpus': u'auto', u'num_eval_samples': u'100', u'learning_rate': u'0.001', u'num_cells': u'40', u'num_layers': u'2', u'embedding_dimension': u'10', u'_kvstore': u'auto', u'_num_kv_servers': u'auto', u'cardinality': u'auto', u'likelihood': u'student-t', u'early_stopping_patience': u''}\u001b[0m\n",
      "\u001b[31m[12/05/2018 17:35:54 INFO 140654853965632] Reading provided configuration from /opt/ml/input/config/hyperparameters.json: {u'dropout_rate': u'0.05', u'learning_rate': u'0.00001', u'num_cells': u'40', u'prediction_length': u'9', u'epochs': u'300', u'time_freq': u'W', u'context_length': u'9', u'num_layers': u'2', u'mini_batch_size': u'32', u'likelihood': u'gaussian', u'early_stopping_patience': u'10'}\u001b[0m\n",
      "\u001b[31m[12/05/2018 17:35:54 INFO 140654853965632] Final configuration: {u'dropout_rate': u'0.05', u'test_quantiles': u'[0.1, 0.2, 0.3, 0.4, 0.5, 0.6, 0.7, 0.8, 0.9]', u'_tuning_objective_metric': u'', u'num_eval_samples': u'100', u'learning_rate': u'0.00001', u'num_layers': u'2', u'epochs': u'300', u'embedding_dimension': u'10', u'num_cells': u'40', u'_num_kv_servers': u'auto', u'mini_batch_size': u'32', u'likelihood': u'gaussian', u'num_dynamic_feat': u'auto', u'cardinality': u'auto', u'_num_gpus': u'auto', u'prediction_length': u'9', u'time_freq': u'W', u'context_length': u'9', u'_kvstore': u'auto', u'early_stopping_patience': u'10'}\u001b[0m\n",
      "\u001b[31m[12/05/2018 17:35:54 INFO 140654853965632] Detected entry point for worker worker\u001b[0m\n",
      "\u001b[31m[12/05/2018 17:35:54 INFO 140654853965632] Using early stopping with patience 10\u001b[0m\n",
      "\u001b[31m[12/05/2018 17:35:54 INFO 140654853965632] [cardinality=auto] `cat` field was found in the file `/opt/ml/input/data/train/deepar_sales_training.json` and will be used for training.\u001b[0m\n",
      "\u001b[31m[12/05/2018 17:35:54 INFO 140654853965632] [num_dynamic_feat=auto] `dynamic_feat` field was found in the file `/opt/ml/input/data/train/deepar_sales_training.json` and will be used for training.\u001b[0m\n",
      "\u001b[31m[12/05/2018 17:35:54 INFO 140654853965632] [cardinality=auto] Inferred value of cardinality=[66] from dataset.\u001b[0m\n",
      "\u001b[31m[12/05/2018 17:35:54 INFO 140654853965632] [num_dynamic_feat=auto] Inferred value of num_dynamic_feat=1 from dataset.\u001b[0m\n",
      "\u001b[31m[12/05/2018 17:35:54 INFO 140654853965632] Training set statistics:\u001b[0m\n",
      "\u001b[31m[12/05/2018 17:35:54 INFO 140654853965632] Real time series\u001b[0m\n",
      "\u001b[31m[12/05/2018 17:35:54 INFO 140654853965632] number of time series: 66\u001b[0m\n",
      "\u001b[31m[12/05/2018 17:35:54 INFO 140654853965632] number of observations: 8844\u001b[0m\n",
      "\u001b[31m[12/05/2018 17:35:54 INFO 140654853965632] mean target length: 134\u001b[0m\n",
      "\u001b[31m[12/05/2018 17:35:54 INFO 140654853965632] min/mean/max target: 223.300003052/31660.3569334/422306.25\u001b[0m\n",
      "\u001b[31m[12/05/2018 17:35:54 INFO 140654853965632] mean abs(target): 31660.3569334\u001b[0m\n",
      "\u001b[31m[12/05/2018 17:35:54 INFO 140654853965632] contains missing values: no\u001b[0m\n",
      "\u001b[31m[12/05/2018 17:35:54 INFO 140654853965632] Small number of time series. Doing 5 number of passes over dataset per epoch.\u001b[0m\n",
      "\u001b[31m[12/05/2018 17:35:54 INFO 140654853965632] Test set statistics:\u001b[0m\n",
      "\u001b[31m[12/05/2018 17:35:54 INFO 140654853965632] Real time series\u001b[0m\n",
      "\u001b[31m[12/05/2018 17:35:54 INFO 140654853965632] number of time series: 66\u001b[0m\n",
      "\u001b[31m[12/05/2018 17:35:54 INFO 140654853965632] number of observations: 9438\u001b[0m\n",
      "\u001b[31m[12/05/2018 17:35:54 INFO 140654853965632] mean target length: 143\u001b[0m\n",
      "\u001b[31m[12/05/2018 17:35:54 INFO 140654853965632] min/mean/max target: 223.300003052/31667.6111166/422306.25\u001b[0m\n",
      "\u001b[31m[12/05/2018 17:35:54 INFO 140654853965632] mean abs(target): 31667.6111166\u001b[0m\n",
      "\u001b[31m[12/05/2018 17:35:54 INFO 140654853965632] contains missing values: no\u001b[0m\n",
      "\u001b[31m[12/05/2018 17:35:54 INFO 140654853965632] nvidia-smi took: 0.0251660346985 secs to identify 0 gpus\u001b[0m\n",
      "\u001b[31m[12/05/2018 17:35:54 INFO 140654853965632] Number of GPUs being used: 0\u001b[0m\n",
      "\u001b[31m[12/05/2018 17:35:54 INFO 140654853965632] Create Store: local\u001b[0m\n",
      "\u001b[31m#metrics {\"Metrics\": {\"get_graph.time\": {\"count\": 1, \"max\": 35.31312942504883, \"sum\": 35.31312942504883, \"min\": 35.31312942504883}}, \"EndTime\": 1544031354.850179, \"Dimensions\": {\"Host\": \"algo-1\", \"Operation\": \"training\", \"Algorithm\": \"AWS/DeepAR\"}, \"StartTime\": 1544031354.812613}\n",
      "\u001b[0m\n",
      "\u001b[31m[12/05/2018 17:35:54 INFO 140654853965632] Number of GPUs being used: 0\u001b[0m\n",
      "\u001b[31m#metrics {\"Metrics\": {\"initialize.time\": {\"count\": 1, \"max\": 96.07791900634766, \"sum\": 96.07791900634766, \"min\": 96.07791900634766}}, \"EndTime\": 1544031354.90877, \"Dimensions\": {\"Host\": \"algo-1\", \"Operation\": \"training\", \"Algorithm\": \"AWS/DeepAR\"}, \"StartTime\": 1544031354.850241}\n",
      "\u001b[0m\n",
      "\u001b[31m[12/05/2018 17:35:55 INFO 140654853965632] Epoch[0] Batch[0] avg_epoch_loss=10.499309\u001b[0m\n",
      "\u001b[31m[12/05/2018 17:35:55 INFO 140654853965632] Epoch[0] Batch[5] avg_epoch_loss=10.338695\u001b[0m\n",
      "\u001b[31m[12/05/2018 17:35:55 INFO 140654853965632] Epoch[0] Batch [5]#011Speed: 2216.23 samples/sec#011loss=10.338695\u001b[0m\n",
      "\u001b[31m[12/05/2018 17:35:55 INFO 140654853965632] Epoch[0] Batch[10] avg_epoch_loss=10.424159\u001b[0m\n",
      "\u001b[31m[12/05/2018 17:35:55 INFO 140654853965632] Epoch[0] Batch [10]#011Speed: 2117.27 samples/sec#011loss=10.526717\u001b[0m\n",
      "\u001b[31m[12/05/2018 17:35:55 INFO 140654853965632] processed a total of 343 examples\u001b[0m\n",
      "\u001b[31m#metrics {\"Metrics\": {\"epochs\": {\"count\": 1, \"max\": 300, \"sum\": 300.0, \"min\": 300}, \"update.time\": {\"count\": 1, \"max\": 408.8330268859863, \"sum\": 408.8330268859863, \"min\": 408.8330268859863}}, \"EndTime\": 1544031355.31777, \"Dimensions\": {\"Host\": \"algo-1\", \"Operation\": \"training\", \"Algorithm\": \"AWS/DeepAR\"}, \"StartTime\": 1544031354.908834}\n",
      "\u001b[0m\n",
      "\u001b[31m[12/05/2018 17:35:55 INFO 140654853965632] #throughput_metric: host=algo-1, train throughput=838.714575127 records/second\u001b[0m\n",
      "\u001b[31m[12/05/2018 17:35:55 INFO 140654853965632] #progress_metric: host=algo-1, completed 0 % of epochs\u001b[0m\n",
      "\u001b[31m[12/05/2018 17:35:55 INFO 140654853965632] best epoch loss so far\u001b[0m\n",
      "\u001b[31m[12/05/2018 17:35:55 INFO 140654853965632] Saved checkpoint to \"/opt/ml/model/state_bf9bf1a9-7318-46ad-8a53-dd553623c329-0000.params\"\u001b[0m\n",
      "\u001b[31m#metrics {\"Metrics\": {\"state.serialize.time\": {\"count\": 1, \"max\": 12.476205825805664, \"sum\": 12.476205825805664, \"min\": 12.476205825805664}}, \"EndTime\": 1544031355.33071, \"Dimensions\": {\"Host\": \"algo-1\", \"Operation\": \"training\", \"Algorithm\": \"AWS/DeepAR\"}, \"StartTime\": 1544031355.317856}\n",
      "\u001b[0m\n",
      "\u001b[31m[12/05/2018 17:35:55 INFO 140654853965632] Epoch[1] Batch[0] avg_epoch_loss=10.526272\u001b[0m\n",
      "\u001b[31m[12/05/2018 17:35:55 INFO 140654853965632] Epoch[1] Batch[5] avg_epoch_loss=10.314585\u001b[0m\n",
      "\u001b[31m[12/05/2018 17:35:55 INFO 140654853965632] Epoch[1] Batch [5]#011Speed: 2016.43 samples/sec#011loss=10.314585\u001b[0m\n",
      "\u001b[31m[12/05/2018 17:35:55 INFO 140654853965632] processed a total of 318 examples\u001b[0m\n",
      "\u001b[31m#metrics {\"Metrics\": {\"update.time\": {\"count\": 1, \"max\": 328.8559913635254, \"sum\": 328.8559913635254, \"min\": 328.8559913635254}}, \"EndTime\": 1544031355.659668, \"Dimensions\": {\"Host\": \"algo-1\", \"Operation\": \"training\", \"Algorithm\": \"AWS/DeepAR\"}, \"StartTime\": 1544031355.330761}\n",
      "\u001b[0m\n",
      "\u001b[31m[12/05/2018 17:35:55 INFO 140654853965632] #throughput_metric: host=algo-1, train throughput=966.641715532 records/second\u001b[0m\n",
      "\u001b[31m[12/05/2018 17:35:55 INFO 140654853965632] #progress_metric: host=algo-1, completed 0 % of epochs\u001b[0m\n",
      "\u001b[31m[12/05/2018 17:35:55 INFO 140654853965632] best epoch loss so far\u001b[0m\n",
      "\u001b[31m[12/05/2018 17:35:55 INFO 140654853965632] Saved checkpoint to \"/opt/ml/model/state_6f882fcc-50dd-4b5b-a2c6-e63153aa6781-0000.params\"\u001b[0m\n",
      "\u001b[31m#metrics {\"Metrics\": {\"state.serialize.time\": {\"count\": 1, \"max\": 7.22193717956543, \"sum\": 7.22193717956543, \"min\": 7.22193717956543}}, \"EndTime\": 1544031355.66737, \"Dimensions\": {\"Host\": \"algo-1\", \"Operation\": \"training\", \"Algorithm\": \"AWS/DeepAR\"}, \"StartTime\": 1544031355.659747}\n",
      "\u001b[0m\n",
      "\u001b[31m[12/05/2018 17:35:55 INFO 140654853965632] Epoch[2] Batch[0] avg_epoch_loss=10.647210\u001b[0m\n",
      "\u001b[31m[12/05/2018 17:35:55 INFO 140654853965632] Epoch[2] Batch[5] avg_epoch_loss=10.419497\u001b[0m\n",
      "\u001b[31m[12/05/2018 17:35:55 INFO 140654853965632] Epoch[2] Batch [5]#011Speed: 1933.37 samples/sec#011loss=10.419497\u001b[0m\n",
      "\u001b[31m[12/05/2018 17:35:55 INFO 140654853965632] processed a total of 297 examples\u001b[0m\n",
      "\u001b[31m#metrics {\"Metrics\": {\"update.time\": {\"count\": 1, \"max\": 315.11688232421875, \"sum\": 315.11688232421875, \"min\": 315.11688232421875}}, \"EndTime\": 1544031355.98259, \"Dimensions\": {\"Host\": \"algo-1\", \"Operation\": \"training\", \"Algorithm\": \"AWS/DeepAR\"}, \"StartTime\": 1544031355.667422}\n",
      "\u001b[0m\n",
      "\u001b[31m[12/05/2018 17:35:55 INFO 140654853965632] #throughput_metric: host=algo-1, train throughput=942.184495091 records/second\u001b[0m\n",
      "\u001b[31m[12/05/2018 17:35:55 INFO 140654853965632] #progress_metric: host=algo-1, completed 1 % of epochs\u001b[0m\n",
      "\u001b[31m[12/05/2018 17:35:55 INFO 140654853965632] best epoch loss so far\u001b[0m\n",
      "\u001b[31m[12/05/2018 17:35:55 INFO 140654853965632] Saved checkpoint to \"/opt/ml/model/state_fbd2dfd3-0e77-4829-9022-4498f0cc49e3-0000.params\"\u001b[0m\n",
      "\u001b[31m#metrics {\"Metrics\": {\"state.serialize.time\": {\"count\": 1, \"max\": 11.445999145507812, \"sum\": 11.445999145507812, \"min\": 11.445999145507812}}, \"EndTime\": 1544031355.994466, \"Dimensions\": {\"Host\": \"algo-1\", \"Operation\": \"training\", \"Algorithm\": \"AWS/DeepAR\"}, \"StartTime\": 1544031355.982663}\n",
      "\u001b[0m\n",
      "\u001b[31m[12/05/2018 17:35:56 INFO 140654853965632] Epoch[3] Batch[0] avg_epoch_loss=10.338171\u001b[0m\n",
      "\u001b[31m[12/05/2018 17:35:56 INFO 140654853965632] Epoch[3] Batch[5] avg_epoch_loss=10.296279\u001b[0m\n",
      "\u001b[31m[12/05/2018 17:35:56 INFO 140654853965632] Epoch[3] Batch [5]#011Speed: 1899.54 samples/sec#011loss=10.296279\u001b[0m\n",
      "\u001b[31m[12/05/2018 17:35:56 INFO 140654853965632] processed a total of 306 examples\u001b[0m\n",
      "\u001b[31m#metrics {\"Metrics\": {\"update.time\": {\"count\": 1, \"max\": 346.84014320373535, \"sum\": 346.84014320373535, \"min\": 346.84014320373535}}, \"EndTime\": 1544031356.341407, \"Dimensions\": {\"Host\": \"algo-1\", \"Operation\": \"training\", \"Algorithm\": \"AWS/DeepAR\"}, \"StartTime\": 1544031355.994514}\n",
      "\u001b[0m\n",
      "\u001b[31m[12/05/2018 17:35:56 INFO 140654853965632] #throughput_metric: host=algo-1, train throughput=881.925874517 records/second\u001b[0m\n",
      "\u001b[31m[12/05/2018 17:35:56 INFO 140654853965632] #progress_metric: host=algo-1, completed 1 % of epochs\u001b[0m\n",
      "\u001b[31m[12/05/2018 17:35:56 INFO 140654853965632] loss did not improve for 1 epochs\u001b[0m\n",
      "\u001b[31m[12/05/2018 17:35:56 INFO 140654853965632] Epoch[4] Batch[0] avg_epoch_loss=10.710773\u001b[0m\n",
      "\u001b[31m[12/05/2018 17:35:56 INFO 140654853965632] Epoch[4] Batch[5] avg_epoch_loss=10.470133\u001b[0m\n",
      "\u001b[31m[12/05/2018 17:35:56 INFO 140654853965632] Epoch[4] Batch [5]#011Speed: 1558.61 samples/sec#011loss=10.470133\u001b[0m\n",
      "\u001b[31m[12/05/2018 17:35:56 INFO 140654853965632] processed a total of 318 examples\u001b[0m\n",
      "\u001b[31m#metrics {\"Metrics\": {\"update.time\": {\"count\": 1, \"max\": 451.04002952575684, \"sum\": 451.04002952575684, \"min\": 451.04002952575684}}, \"EndTime\": 1544031356.793126, \"Dimensions\": {\"Host\": \"algo-1\", \"Operation\": \"training\", \"Algorithm\": \"AWS/DeepAR\"}, \"StartTime\": 1544031356.341493}\n",
      "\u001b[0m\n",
      "\u001b[31m[12/05/2018 17:35:56 INFO 140654853965632] #throughput_metric: host=algo-1, train throughput=704.832658686 records/second\u001b[0m\n",
      "\u001b[31m[12/05/2018 17:35:56 INFO 140654853965632] #progress_metric: host=algo-1, completed 1 % of epochs\u001b[0m\n",
      "\u001b[31m[12/05/2018 17:35:56 INFO 140654853965632] loss did not improve for 2 epochs\u001b[0m\n",
      "\u001b[31m[12/05/2018 17:35:57 INFO 140654853965632] Epoch[5] Batch[0] avg_epoch_loss=10.620741\u001b[0m\n",
      "\u001b[31m[12/05/2018 17:35:57 INFO 140654853965632] Epoch[5] Batch[5] avg_epoch_loss=10.404827\u001b[0m\n",
      "\u001b[31m[12/05/2018 17:35:57 INFO 140654853965632] Epoch[5] Batch [5]#011Speed: 1431.71 samples/sec#011loss=10.404827\u001b[0m\n",
      "\u001b[31m[12/05/2018 17:35:57 INFO 140654853965632] processed a total of 298 examples\u001b[0m\n",
      "\u001b[31m#metrics {\"Metrics\": {\"update.time\": {\"count\": 1, \"max\": 472.13196754455566, \"sum\": 472.13196754455566, \"min\": 472.13196754455566}}, \"EndTime\": 1544031357.265777, \"Dimensions\": {\"Host\": \"algo-1\", \"Operation\": \"training\", \"Algorithm\": \"AWS/DeepAR\"}, \"StartTime\": 1544031356.793215}\n",
      "\u001b[0m\n",
      "\u001b[31m[12/05/2018 17:35:57 INFO 140654853965632] #throughput_metric: host=algo-1, train throughput=631.007070859 records/second\u001b[0m\n",
      "\u001b[31m[12/05/2018 17:35:57 INFO 140654853965632] #progress_metric: host=algo-1, completed 2 % of epochs\u001b[0m\n",
      "\u001b[31m[12/05/2018 17:35:57 INFO 140654853965632] loss did not improve for 3 epochs\u001b[0m\n",
      "\u001b[31m[12/05/2018 17:35:57 INFO 140654853965632] Epoch[6] Batch[0] avg_epoch_loss=10.761439\u001b[0m\n",
      "\u001b[31m[12/05/2018 17:35:57 INFO 140654853965632] Epoch[6] Batch[5] avg_epoch_loss=10.382783\u001b[0m\n",
      "\u001b[31m[12/05/2018 17:35:57 INFO 140654853965632] Epoch[6] Batch [5]#011Speed: 1480.66 samples/sec#011loss=10.382783\u001b[0m\n",
      "\u001b[31m[12/05/2018 17:35:57 INFO 140654853965632] processed a total of 295 examples\u001b[0m\n",
      "\u001b[31m#metrics {\"Metrics\": {\"update.time\": {\"count\": 1, \"max\": 465.9750461578369, \"sum\": 465.9750461578369, \"min\": 465.9750461578369}}, \"EndTime\": 1544031357.732187, \"Dimensions\": {\"Host\": \"algo-1\", \"Operation\": \"training\", \"Algorithm\": \"AWS/DeepAR\"}, \"StartTime\": 1544031357.265865}\n",
      "\u001b[0m\n",
      "\u001b[31m[12/05/2018 17:35:57 INFO 140654853965632] #throughput_metric: host=algo-1, train throughput=632.896531017 records/second\u001b[0m\n",
      "\u001b[31m[12/05/2018 17:35:57 INFO 140654853965632] #progress_metric: host=algo-1, completed 2 % of epochs\u001b[0m\n",
      "\u001b[31m[12/05/2018 17:35:57 INFO 140654853965632] loss did not improve for 4 epochs\u001b[0m\n",
      "\u001b[31m[12/05/2018 17:35:58 INFO 140654853965632] Epoch[7] Batch[0] avg_epoch_loss=10.018637\u001b[0m\n",
      "\u001b[31m[12/05/2018 17:35:58 INFO 140654853965632] Epoch[7] Batch[5] avg_epoch_loss=10.542026\u001b[0m\n",
      "\u001b[31m[12/05/2018 17:35:58 INFO 140654853965632] Epoch[7] Batch [5]#011Speed: 1465.15 samples/sec#011loss=10.542026\u001b[0m\n",
      "\u001b[31m[12/05/2018 17:35:58 INFO 140654853965632] processed a total of 298 examples\u001b[0m\n",
      "\u001b[31m#metrics {\"Metrics\": {\"update.time\": {\"count\": 1, \"max\": 450.4821300506592, \"sum\": 450.4821300506592, \"min\": 450.4821300506592}}, \"EndTime\": 1544031358.183122, \"Dimensions\": {\"Host\": \"algo-1\", \"Operation\": \"training\", \"Algorithm\": \"AWS/DeepAR\"}, \"StartTime\": 1544031357.732283}\n",
      "\u001b[0m\n",
      "\u001b[31m[12/05/2018 17:35:58 INFO 140654853965632] #throughput_metric: host=algo-1, train throughput=661.358065467 records/second\u001b[0m\n",
      "\u001b[31m[12/05/2018 17:35:58 INFO 140654853965632] #progress_metric: host=algo-1, completed 2 % of epochs\u001b[0m\n",
      "\u001b[31m[12/05/2018 17:35:58 INFO 140654853965632] loss did not improve for 5 epochs\u001b[0m\n",
      "\u001b[31m[12/05/2018 17:35:58 INFO 140654853965632] Epoch[8] Batch[0] avg_epoch_loss=10.365735\u001b[0m\n",
      "\u001b[31m[12/05/2018 17:35:58 INFO 140654853965632] Epoch[8] Batch[5] avg_epoch_loss=10.422471\u001b[0m\n",
      "\u001b[31m[12/05/2018 17:35:58 INFO 140654853965632] Epoch[8] Batch [5]#011Speed: 2217.42 samples/sec#011loss=10.422471\u001b[0m\n",
      "\u001b[31m[12/05/2018 17:35:58 INFO 140654853965632] Epoch[8] Batch[10] avg_epoch_loss=10.440531\u001b[0m\n",
      "\u001b[31m[12/05/2018 17:35:58 INFO 140654853965632] Epoch[8] Batch [10]#011Speed: 1922.85 samples/sec#011loss=10.462203\u001b[0m\n",
      "\u001b[31m[12/05/2018 17:35:58 INFO 140654853965632] processed a total of 324 examples\u001b[0m\n",
      "\u001b[31m#metrics {\"Metrics\": {\"update.time\": {\"count\": 1, \"max\": 330.90901374816895, \"sum\": 330.90901374816895, \"min\": 330.90901374816895}}, \"EndTime\": 1544031358.514392, \"Dimensions\": {\"Host\": \"algo-1\", \"Operation\": \"training\", \"Algorithm\": \"AWS/DeepAR\"}, \"StartTime\": 1544031358.183188}\n",
      "\u001b[0m\n",
      "\u001b[31m[12/05/2018 17:35:58 INFO 140654853965632] #throughput_metric: host=algo-1, train throughput=978.76921304 records/second\u001b[0m\n",
      "\u001b[31m[12/05/2018 17:35:58 INFO 140654853965632] #progress_metric: host=algo-1, completed 3 % of epochs\u001b[0m\n",
      "\u001b[31m[12/05/2018 17:35:58 INFO 140654853965632] loss did not improve for 6 epochs\u001b[0m\n",
      "\u001b[31m[12/05/2018 17:35:58 INFO 140654853965632] Epoch[9] Batch[0] avg_epoch_loss=10.106104\u001b[0m\n",
      "\u001b[31m[12/05/2018 17:35:58 INFO 140654853965632] Epoch[9] Batch[5] avg_epoch_loss=10.304398\u001b[0m\n",
      "\u001b[31m[12/05/2018 17:35:58 INFO 140654853965632] Epoch[9] Batch [5]#011Speed: 2004.91 samples/sec#011loss=10.304398\u001b[0m\n",
      "\u001b[31m[12/05/2018 17:35:58 INFO 140654853965632] Epoch[9] Batch[10] avg_epoch_loss=10.235596\u001b[0m\n",
      "\u001b[31m[12/05/2018 17:35:58 INFO 140654853965632] Epoch[9] Batch [10]#011Speed: 1585.01 samples/sec#011loss=10.153033\u001b[0m\n",
      "\u001b[31m[12/05/2018 17:35:58 INFO 140654853965632] processed a total of 342 examples\u001b[0m\n",
      "\u001b[31m#metrics {\"Metrics\": {\"update.time\": {\"count\": 1, \"max\": 362.02478408813477, \"sum\": 362.02478408813477, \"min\": 362.02478408813477}}, \"EndTime\": 1544031358.876991, \"Dimensions\": {\"Host\": \"algo-1\", \"Operation\": \"training\", \"Algorithm\": \"AWS/DeepAR\"}, \"StartTime\": 1544031358.514467}\n",
      "\u001b[0m\n",
      "\u001b[31m[12/05/2018 17:35:58 INFO 140654853965632] #throughput_metric: host=algo-1, train throughput=944.318539282 records/second\u001b[0m\n",
      "\u001b[31m[12/05/2018 17:35:58 INFO 140654853965632] #progress_metric: host=algo-1, completed 3 % of epochs\u001b[0m\n",
      "\u001b[31m[12/05/2018 17:35:58 INFO 140654853965632] loss did not improve for 7 epochs\u001b[0m\n",
      "\u001b[31m[12/05/2018 17:35:59 INFO 140654853965632] Epoch[10] Batch[0] avg_epoch_loss=10.595917\u001b[0m\n",
      "\u001b[31m[12/05/2018 17:35:59 INFO 140654853965632] Epoch[10] Batch[5] avg_epoch_loss=10.141078\u001b[0m\n",
      "\u001b[31m[12/05/2018 17:35:59 INFO 140654853965632] Epoch[10] Batch [5]#011Speed: 2017.83 samples/sec#011loss=10.141078\u001b[0m\n",
      "\u001b[31m[12/05/2018 17:35:59 INFO 140654853965632] Epoch[10] Batch[10] avg_epoch_loss=10.253406\u001b[0m\n",
      "\u001b[31m[12/05/2018 17:35:59 INFO 140654853965632] Epoch[10] Batch [10]#011Speed: 2125.90 samples/sec#011loss=10.388200\u001b[0m\n",
      "\u001b[31m[12/05/2018 17:35:59 INFO 140654853965632] processed a total of 325 examples\u001b[0m\n",
      "\u001b[31m#metrics {\"Metrics\": {\"update.time\": {\"count\": 1, \"max\": 341.2671089172363, \"sum\": 341.2671089172363, \"min\": 341.2671089172363}}, \"EndTime\": 1544031359.219021, \"Dimensions\": {\"Host\": \"algo-1\", \"Operation\": \"training\", \"Algorithm\": \"AWS/DeepAR\"}, \"StartTime\": 1544031358.877089}\n",
      "\u001b[0m\n",
      "\u001b[31m[12/05/2018 17:35:59 INFO 140654853965632] #throughput_metric: host=algo-1, train throughput=952.035233331 records/second\u001b[0m\n",
      "\u001b[31m[12/05/2018 17:35:59 INFO 140654853965632] #progress_metric: host=algo-1, completed 3 % of epochs\u001b[0m\n",
      "\u001b[31m[12/05/2018 17:35:59 INFO 140654853965632] loss did not improve for 8 epochs\u001b[0m\n",
      "\u001b[31m[12/05/2018 17:35:59 INFO 140654853965632] Epoch[11] Batch[0] avg_epoch_loss=10.311632\u001b[0m\n",
      "\u001b[31m[12/05/2018 17:35:59 INFO 140654853965632] Epoch[11] Batch[5] avg_epoch_loss=10.345167\u001b[0m\n",
      "\u001b[31m[12/05/2018 17:35:59 INFO 140654853965632] Epoch[11] Batch [5]#011Speed: 2009.24 samples/sec#011loss=10.345167\u001b[0m\n",
      "\u001b[31m[12/05/2018 17:35:59 INFO 140654853965632] processed a total of 315 examples\u001b[0m\n",
      "\u001b[31m#metrics {\"Metrics\": {\"update.time\": {\"count\": 1, \"max\": 327.8529644012451, \"sum\": 327.8529644012451, \"min\": 327.8529644012451}}, \"EndTime\": 1544031359.547246, \"Dimensions\": {\"Host\": \"algo-1\", \"Operation\": \"training\", \"Algorithm\": \"AWS/DeepAR\"}, \"StartTime\": 1544031359.219091}\n",
      "\u001b[0m\n",
      "\u001b[31m[12/05/2018 17:35:59 INFO 140654853965632] #throughput_metric: host=algo-1, train throughput=960.457109293 records/second\u001b[0m\n",
      "\u001b[31m[12/05/2018 17:35:59 INFO 140654853965632] #progress_metric: host=algo-1, completed 4 % of epochs\u001b[0m\n",
      "\u001b[31m[12/05/2018 17:35:59 INFO 140654853965632] loss did not improve for 9 epochs\u001b[0m\n",
      "\u001b[31m[12/05/2018 17:35:59 INFO 140654853965632] Epoch[12] Batch[0] avg_epoch_loss=10.073408\u001b[0m\n",
      "\u001b[31m[12/05/2018 17:35:59 INFO 140654853965632] Epoch[12] Batch[5] avg_epoch_loss=10.438398\u001b[0m\n",
      "\u001b[31m[12/05/2018 17:35:59 INFO 140654853965632] Epoch[12] Batch [5]#011Speed: 2210.77 samples/sec#011loss=10.438398\u001b[0m\n",
      "\u001b[31m[12/05/2018 17:35:59 INFO 140654853965632] processed a total of 315 examples\u001b[0m\n",
      "\u001b[31m#metrics {\"Metrics\": {\"update.time\": {\"count\": 1, \"max\": 306.5299987792969, \"sum\": 306.5299987792969, \"min\": 306.5299987792969}}, \"EndTime\": 1544031359.854148, \"Dimensions\": {\"Host\": \"algo-1\", \"Operation\": \"training\", \"Algorithm\": \"AWS/DeepAR\"}, \"StartTime\": 1544031359.547324}\n",
      "\u001b[0m\n",
      "\u001b[31m[12/05/2018 17:35:59 INFO 140654853965632] #throughput_metric: host=algo-1, train throughput=1027.23319227 records/second\u001b[0m\n",
      "\u001b[31m[12/05/2018 17:35:59 INFO 140654853965632] #progress_metric: host=algo-1, completed 4 % of epochs\u001b[0m\n",
      "\u001b[31m[12/05/2018 17:35:59 INFO 140654853965632] loss did not improve for 10 epochs\u001b[0m\n",
      "\u001b[31m[12/05/2018 17:35:59 INFO 140654853965632] stopping training now\u001b[0m\n",
      "\u001b[31m[12/05/2018 17:35:59 INFO 140654853965632] #progress_metric: host=algo-1, completed 100 % epochs\u001b[0m\n",
      "\u001b[31m[12/05/2018 17:35:59 INFO 140654853965632] Loading parameters from best epoch (2)\u001b[0m\n",
      "\u001b[31m#metrics {\"Metrics\": {\"state.deserialize.time\": {\"count\": 1, \"max\": 4.749059677124023, \"sum\": 4.749059677124023, \"min\": 4.749059677124023}}, \"EndTime\": 1544031359.859592, \"Dimensions\": {\"Host\": \"algo-1\", \"Operation\": \"training\", \"Algorithm\": \"AWS/DeepAR\"}, \"StartTime\": 1544031359.854228}\n",
      "\u001b[0m\n",
      "\u001b[31m[12/05/2018 17:35:59 INFO 140654853965632] Final loss: 10.1063820839 (occurred at epoch 2)\u001b[0m\n",
      "\u001b[31m[12/05/2018 17:35:59 INFO 140654853965632] #quality_metric: host=algo-1, train final_loss <loss>=10.1063820839\u001b[0m\n",
      "\u001b[31m[12/05/2018 17:35:59 INFO 140654853965632] Worker algo-1 finished training.\u001b[0m\n",
      "\u001b[31m[12/05/2018 17:35:59 WARNING 140654853965632] wait_for_all_workers will not sync workers since the kv store is not running distributed\u001b[0m\n",
      "\u001b[31m[12/05/2018 17:35:59 INFO 140654853965632] All workers finished. Serializing model for prediction.\u001b[0m\n",
      "\u001b[31m#metrics {\"Metrics\": {\"get_graph.time\": {\"count\": 1, \"max\": 48.262834548950195, \"sum\": 48.262834548950195, \"min\": 48.262834548950195}}, \"EndTime\": 1544031359.908493, \"Dimensions\": {\"Host\": \"algo-1\", \"Operation\": \"training\", \"Algorithm\": \"AWS/DeepAR\"}, \"StartTime\": 1544031359.85964}\n",
      "\u001b[0m\n",
      "\u001b[31m[12/05/2018 17:35:59 INFO 140654853965632] Number of GPUs being used: 0\u001b[0m\n",
      "\u001b[31m#metrics {\"Metrics\": {\"finalize.time\": {\"count\": 1, \"max\": 69.77391242980957, \"sum\": 69.77391242980957, \"min\": 69.77391242980957}}, \"EndTime\": 1544031359.92996, \"Dimensions\": {\"Host\": \"algo-1\", \"Operation\": \"training\", \"Algorithm\": \"AWS/DeepAR\"}, \"StartTime\": 1544031359.908558}\n",
      "\u001b[0m\n",
      "\u001b[31m[12/05/2018 17:35:59 INFO 140654853965632] Serializing to /opt/ml/model/model_algo-1\u001b[0m\n",
      "\u001b[31m[12/05/2018 17:35:59 INFO 140654853965632] Saved checkpoint to \"/opt/ml/model/model_algo-1-0000.params\"\u001b[0m\n",
      "\u001b[31m#metrics {\"Metrics\": {\"model.serialize.time\": {\"count\": 1, \"max\": 3.8399696350097656, \"sum\": 3.8399696350097656, \"min\": 3.8399696350097656}}, \"EndTime\": 1544031359.933894, \"Dimensions\": {\"Host\": \"algo-1\", \"Operation\": \"training\", \"Algorithm\": \"AWS/DeepAR\"}, \"StartTime\": 1544031359.930016}\n",
      "\u001b[0m\n",
      "\u001b[31m[12/05/2018 17:35:59 INFO 140654853965632] Successfully serialized the model for prediction.\u001b[0m\n",
      "\u001b[31m[12/05/2018 17:35:59 INFO 140654853965632] Evaluating model accuracy on testset using 100 samples\u001b[0m\n",
      "\u001b[31m#metrics {\"Metrics\": {\"model.bind.time\": {\"count\": 1, \"max\": 0.03790855407714844, \"sum\": 0.03790855407714844, \"min\": 0.03790855407714844}}, \"EndTime\": 1544031359.93463, \"Dimensions\": {\"Host\": \"algo-1\", \"Operation\": \"training\", \"Algorithm\": \"AWS/DeepAR\"}, \"StartTime\": 1544031359.933935}\n",
      "\u001b[0m\n",
      "\u001b[31m#metrics {\"Metrics\": {\"model.score.time\": {\"count\": 1, \"max\": 1020.0731754302979, \"sum\": 1020.0731754302979, \"min\": 1020.0731754302979}}, \"EndTime\": 1544031360.954672, \"Dimensions\": {\"Host\": \"algo-1\", \"Operation\": \"training\", \"Algorithm\": \"AWS/DeepAR\"}, \"StartTime\": 1544031359.93469}\n",
      "\u001b[0m\n",
      "\u001b[31m[12/05/2018 17:36:00 INFO 140654853965632] #test_score (algo-1, RMSE): 7307.12501604\u001b[0m\n",
      "\u001b[31m[12/05/2018 17:36:00 INFO 140654853965632] #test_score (algo-1, mean_wQuantileLoss): 0.198078\u001b[0m\n",
      "\u001b[31m[12/05/2018 17:36:00 INFO 140654853965632] #test_score (algo-1, wQuantileLoss[0.1]): 0.172473\u001b[0m\n",
      "\u001b[31m[12/05/2018 17:36:00 INFO 140654853965632] #test_score (algo-1, wQuantileLoss[0.2]): 0.236177\u001b[0m\n",
      "\u001b[31m[12/05/2018 17:36:00 INFO 140654853965632] #test_score (algo-1, wQuantileLoss[0.3]): 0.236742\u001b[0m\n",
      "\u001b[31m[12/05/2018 17:36:00 INFO 140654853965632] #test_score (algo-1, wQuantileLoss[0.4]): 0.190065\u001b[0m\n",
      "\u001b[31m[12/05/2018 17:36:00 INFO 140654853965632] #test_score (algo-1, wQuantileLoss[0.5]): 0.1485\u001b[0m\n",
      "\u001b[31m[12/05/2018 17:36:00 INFO 140654853965632] #test_score (algo-1, wQuantileLoss[0.6]): 0.178847\u001b[0m\n",
      "\u001b[31m[12/05/2018 17:36:00 INFO 140654853965632] #test_score (algo-1, wQuantileLoss[0.7]): 0.223082\u001b[0m\n",
      "\u001b[31m[12/05/2018 17:36:00 INFO 140654853965632] #test_score (algo-1, wQuantileLoss[0.8]): 0.226312\u001b[0m\n",
      "\u001b[31m[12/05/2018 17:36:00 INFO 140654853965632] #test_score (algo-1, wQuantileLoss[0.9]): 0.170508\u001b[0m\n",
      "\u001b[31m[12/05/2018 17:36:00 INFO 140654853965632] #quality_metric: host=algo-1, test RMSE <loss>=7307.12501604\u001b[0m\n",
      "\u001b[31m[12/05/2018 17:36:00 INFO 140654853965632] #quality_metric: host=algo-1, test mean_wQuantileLoss <loss>=0.198078483343\u001b[0m\n",
      "\u001b[31m#metrics {\"Metrics\": {\"totaltime\": {\"count\": 1, \"max\": 6360.483169555664, \"sum\": 6360.483169555664, \"min\": 6360.483169555664}, \"setuptime\": {\"count\": 1, \"max\": 8.634090423583984, \"sum\": 8.634090423583984, \"min\": 8.634090423583984}}, \"EndTime\": 1544031360.96456, \"Dimensions\": {\"Host\": \"algo-1\", \"Operation\": \"training\", \"Algorithm\": \"AWS/DeepAR\"}, \"StartTime\": 1544031360.954762}\n",
      "\u001b[0m\n"
     ]
    },
    {
     "name": "stdout",
     "output_type": "stream",
     "text": [
      "\n",
      "2018-12-05 17:36:10 Completed - Training job completed\n",
      "Billable seconds: 39\n"
     ]
    }
   ],
   "source": [
    "data_channels = {\"train\": train_path, \"test\": test_path}\n",
    "deepAR.fit(inputs=data_channels)"
   ]
  },
  {
   "cell_type": "markdown",
   "metadata": {},
   "source": [
    "### Deploy the Model"
   ]
  },
  {
   "cell_type": "code",
   "execution_count": 18,
   "metadata": {},
   "outputs": [
    {
     "name": "stderr",
     "output_type": "stream",
     "text": [
      "INFO:sagemaker:Creating model with name: forecasting-deepar-2018-12-05-17-37-03-324\n",
      "INFO:sagemaker:Creating endpoint with name forecasting-deepar-2018-12-05-17-33-07-661\n"
     ]
    },
    {
     "name": "stdout",
     "output_type": "stream",
     "text": [
      "---------------------------------------------------------------------------!"
     ]
    }
   ],
   "source": [
    "deepAR_predictor = deepAR.deploy(initial_instance_count=1, instance_type='ml.m4.xlarge')"
   ]
  },
  {
   "cell_type": "markdown",
   "metadata": {},
   "source": [
    "### Consume the Model"
   ]
  },
  {
   "cell_type": "code",
   "execution_count": 4,
   "metadata": {},
   "outputs": [
    {
     "name": "stdout",
     "output_type": "stream",
     "text": [
      "Predicted Sales:  [92707.65625, 101316.90625, 86202.3984375, 87715.5625, 95967.359375, 101363.71875, 106354.90625, 94017.921875, 103476.71875]\n",
      "Actual Sales:  [100422.86, 94987.08, 90889.75, 115695.71, 100372.02, 96616.19, 93460.57, 99398.64, 105059.88]\n"
     ]
    },
    {
     "data": {
      "image/png": "[encoded data removed]",
      "text/plain": [
       "<Figure size 432x288 with 1 Axes>"
      ]
     },
     "metadata": {},
     "output_type": "display_data"
    }
   ],
   "source": [
    "#Predict last 9 weeks of a department and compare to ground truth\n",
    "\n",
    "deepAR_predictor.content_type = 'application/json'\n",
    "dept = 90 \n",
    "\n",
    "prediction_data = da.salesinference.buildInferenceData(dept, trainingSet, testSet)\n",
    "#print(prediction_data)\n",
    "\n",
    "result = deepAR_predictor.predict(prediction_data)\n",
    "\n",
    "y_mean, y_q1, y_q2, y_sample = da.salesinference.getInferenceSeries(result)\n",
    "print(\"Predicted Sales: \", y_mean)\n",
    "print(\"Actual Sales: \", list(testSet[dept]['Weekly_Sales'][134:]))\n",
    "\n",
    "da.salesinference.plotResults(prediction_length, result, truth=True, truth_data=testSet[dept]['Weekly_Sales'][134:], truth_label='truth')"
   ]
  },
  {
   "cell_type": "code",
   "execution_count": null,
   "metadata": {},
   "outputs": [],
   "source": []
  }
 ],
 "metadata": {
  "kernelspec": {
   "display_name": "conda_python3",
   "language": "python",
   "name": "conda_python3"
  },
  "language_info": {
   "codemirror_mode": {
    "name": "ipython",
    "version": 3
   },
   "file_extension": ".py",
   "mimetype": "text/x-python",
   "name": "python",
   "nbconvert_exporter": "python",
   "pygments_lexer": "ipython3",
   "version": "3.6.5"
  }
 },
 "nbformat": 4,
 "nbformat_minor": 2
}
