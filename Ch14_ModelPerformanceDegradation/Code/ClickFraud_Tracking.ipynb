{
 "cells": [
  {
   "cell_type": "markdown",
   "metadata": {},
   "source": [
    "## Machine Learning Feedback Loop - Predict Ad Click Conversion through XGBoost\n",
    "\n",
    "\n",
    "1. [Introduction](#Introduction)\n",
    "2. [Preprocessing](#Preprocessing)\n",
    "   1. [Read the dataset from S3](#Read-the-dataset-from-S3)\n",
    "   2. [Prepare data for experiments](#Prepare-data-for-experiments)\n",
    "   3. [Explore Data](#Explore-Data) \n",
    "   4. [Create Features](#Create-Features)\n",
    "3. [Running Experiments](#Running-Experiments)\n",
    "   1. [Create train, validation and test datasets](#Create-train,-validation-and-test-datasets)\n",
    "   2. [Plot Feature Importance](#Plot-Feature-Importance)\n",
    "   3. [Inferences](#Inferences)"
   ]
  },
  {
   "cell_type": "markdown",
   "metadata": {},
   "source": [
    "## Introduction\n",
    "\n",
    "Fraud risk is prevalent in almost every industry, from airlines to retail to financial services. Specifically, the risk is high in online advertising. For companies investing in digital marketing, it is important to contain costs from fraudulent clicks on ads. Online advertising can get cost prohibitive if fraudulent behavior is rampant across online ad channels. In this notebook, we will look at ad click data for mobile apps and predict which clicks will likely yield in app downloads. The outcome from this prediction exercise can enable mobile app developers to efficiently allocate online marketing dollars.\n",
    "\n",
    "We have created synthetic or artificial dataset simulating 2.4 million clicks across 4 days (Monday through Thursday; July 2nd to 5th of 2018).  \n",
    "\n",
    "To get started, let's install pre-requisite python packages"
   ]
  },
  {
   "cell_type": "code",
   "execution_count": 1,
   "metadata": {},
   "outputs": [
    {
     "name": "stdout",
     "output_type": "stream",
     "text": [
      "Collecting pip\n",
      "\u001b[?25l  Downloading https://files.pythonhosted.org/packages/5c/e0/be401c003291b56efc55aeba6a80ab790d3d4cece2778288d65323009420/pip-19.1.1-py2.py3-none-any.whl (1.4MB)\n",
      "\u001b[K    100% |████████████████████████████████| 1.4MB 21.3MB/s ta 0:00:01\n",
      "\u001b[?25hInstalling collected packages: pip\n",
      "  Found existing installation: pip 10.0.1\n",
      "    Uninstalling pip-10.0.1:\n",
      "      Successfully uninstalled pip-10.0.1\n",
      "Successfully installed pip-19.1.1\n",
      "Collecting pyarrow\n",
      "\u001b[?25l  Downloading https://files.pythonhosted.org/packages/ad/25/094b122d828d24b58202712a74e661e36cd551ca62d331e388ff68bae91d/pyarrow-0.13.0-cp36-cp36m-manylinux1_x86_64.whl (48.5MB)\n",
      "\u001b[K     |████████████████████████████████| 48.5MB 36.1MB/s eta 0:00:01\n",
      "\u001b[?25hRequirement already satisfied: numpy>=1.14 in /home/ec2-user/anaconda3/envs/mxnet_p36/lib/python3.6/site-packages (from pyarrow) (1.14.5)\n",
      "Requirement already satisfied: six>=1.0.0 in /home/ec2-user/anaconda3/envs/mxnet_p36/lib/python3.6/site-packages (from pyarrow) (1.11.0)\n",
      "Installing collected packages: pyarrow\n",
      "Successfully installed pyarrow-0.13.0\n",
      "Collecting joblib\n",
      "\u001b[?25l  Downloading https://files.pythonhosted.org/packages/cd/c1/50a758e8247561e58cb87305b1e90b171b8c767b15b12a1734001f41d356/joblib-0.13.2-py2.py3-none-any.whl (278kB)\n",
      "\u001b[K     |████████████████████████████████| 286kB 36.6MB/s eta 0:00:01\n",
      "\u001b[?25hInstalling collected packages: joblib\n",
      "Successfully installed joblib-0.13.2\n",
      "Collecting xgboost\n",
      "\u001b[?25l  Downloading https://files.pythonhosted.org/packages/c1/24/5fe7237b2eca13ee0cfb100bec8c23f4e69ce9df852a64b0493d49dae4e0/xgboost-0.90-py2.py3-none-manylinux1_x86_64.whl (142.8MB)\n",
      "\u001b[K     |████████████████████████████████| 142.8MB 60.5MB/s eta 0:00:01\n",
      "\u001b[?25hRequirement already satisfied: numpy in /home/ec2-user/anaconda3/envs/mxnet_p36/lib/python3.6/site-packages (from xgboost) (1.14.5)\n",
      "Requirement already satisfied: scipy in /home/ec2-user/anaconda3/envs/mxnet_p36/lib/python3.6/site-packages (from xgboost) (1.2.1)\n",
      "Installing collected packages: xgboost\n",
      "Successfully installed xgboost-0.90\n"
     ]
    }
   ],
   "source": [
    "#Install relevant python packages\n",
    "!pip install --upgrade pip\n",
    "!pip install pyarrow\n",
    "!pip install joblib\n",
    "!pip install xgboost"
   ]
  },
  {
   "cell_type": "code",
   "execution_count": 2,
   "metadata": {},
   "outputs": [],
   "source": [
    "import boto3\n",
    "import pandas as pd\n",
    "import numpy as np\n",
    "import os\n",
    "import sagemaker\n",
    "from sagemaker.amazon.amazon_estimator import get_image_uri\n",
    "from sagemaker import get_execution_role\n",
    "from sagemaker.predictor import csv_serializer\n",
    "import matplotlib.pyplot as plt\n",
    "#import s3fs\n",
    "import pyarrow.parquet as pq\n",
    "import gc\n",
    "import seaborn as sns\n",
    "import tarfile\n",
    "import joblib\n",
    "import xgboost as xgbst\n",
    "import datetime as dt\n",
    "from sagemaker.model import Model\n",
    "from sklearn.metrics import confusion_matrix\n",
    "from sklearn.metrics import accuracy_score\n",
    "from sklearn.metrics import roc_auc_score\n",
    "from datetime import *"
   ]
  },
  {
   "cell_type": "markdown",
   "metadata": {},
   "source": [
    "## Preprocessing"
   ]
  },
  {
   "cell_type": "markdown",
   "metadata": {},
   "source": [
    "### Read the dataset from S3\n",
    "\n",
    "The ad click data contains the following elements:\n",
    "\n",
    "* ip: ip address of click\n",
    "* app: type of mobile app\n",
    "* device: type of device the click is coming from (e.g., iphone 6 plus, iphone 7)\n",
    "* os: type of operating system the click is coming from\n",
    "* channel: type of channel the click is coming from\n",
    "* click_time: timestamp of click (UTC)\n",
    "* is_downloaded: the target that is to be predicted, indicating the app was downloaded"
   ]
  },
  {
   "cell_type": "code",
   "execution_count": 3,
   "metadata": {},
   "outputs": [],
   "source": [
    "s3_bucket = 'ai-in-aws'\n",
    "s3_prefix = 'Click-Fraud'\n",
    "\n",
    "s3_train_prefix = os.path.join(s3_prefix, 'train')\n",
    "s3_val_prefix = os.path.join(s3_prefix, 'val')\n",
    "s3_output_prefix = os.path.join(s3_prefix, 'output')\n",
    "\n",
    "s3_train_fn = 'train_sample.csv.zip'\n",
    "\n",
    "# Location of prepared training and validation datasets on local ec2 instance where SageMaker is running\n",
    "sm_train_loc = 'click_fraud/train/'\n",
    "sm_val_loc = 'click_fraud/val/'"
   ]
  },
  {
   "cell_type": "code",
   "execution_count": 29,
   "metadata": {},
   "outputs": [],
   "source": [
    "#Read the prepared synthetic dataset from local sagemaker instance\n",
    "\n",
    "file_name = 'ad_track_day'\n",
    "fn_ext = '.csv'\n",
    "num_days = 4\n",
    "dict_of_ad_trk_df = {}\n",
    "\n",
    "\n",
    "for i in range(1, num_days+1):\n",
    "    dict_of_ad_trk_df[file_name+str(i)] = pd.read_csv(file_name+str(i)+fn_ext)"
   ]
  },
  {
   "cell_type": "markdown",
   "metadata": {},
   "source": [
    "#### Run Utility Functions"
   ]
  },
  {
   "cell_type": "code",
   "execution_count": 53,
   "metadata": {},
   "outputs": [
    {
     "data": {
      "text/plain": [
       "<Figure size 432x288 with 0 Axes>"
      ]
     },
     "metadata": {},
     "output_type": "display_data"
    }
   ],
   "source": [
    "run clickfraud_processing.py"
   ]
  },
  {
   "cell_type": "markdown",
   "metadata": {},
   "source": [
    "### Prepare data for experiments\n",
    "\n",
    "* Experiment 1: Ad clicks from Mon & Tues (train) ==> predict app downloads (part of Thurs)\n",
    "* Experiment 2: Ad clicks from Mon, Tues & Wed (train) ==> predict app downloads (part of Thurs)\n",
    "* Experiment 3: Ad clicks from Mon, Tues, Wed & part of Thurs (train) ==> predict app downloads (part of Thurs)"
   ]
  },
  {
   "cell_type": "code",
   "execution_count": 31,
   "metadata": {},
   "outputs": [],
   "source": [
    "df_ckFraud_exp1 = pd.concat([dict_of_ad_trk_df[key] for key in [\"ad_track_day1\", \"ad_track_day2\"]], ignore_index=True)\n",
    "df_ckFraud_exp2 = pd.concat([dict_of_ad_trk_df[key] for key in [\"ad_track_day1\", \"ad_track_day2\", \"ad_track_day3\"]], ignore_index=True)\n",
    "df_ckFraud_exp3 = pd.concat([dict_of_ad_trk_df[key] for key in [\"ad_track_day1\", \"ad_track_day2\", \"ad_track_day3\", \"ad_track_day4\"]], ignore_index=True)\n",
    "\n",
    "\n",
    "# Set the data types for each of the columns\n",
    "# Ensure we have appropriate column types\n",
    "\n",
    "cat_var = ['ip','app','device','os','channel', 'is_downloaded']\n",
    "\n",
    "\n",
    "for var in cat_var:\n",
    "    df_ckFraud_exp1[var] = df_ckFraud_exp1[var].astype('uint32')\n",
    "    df_ckFraud_exp2[var] = df_ckFraud_exp2[var].astype('uint32')\n",
    "    df_ckFraud_exp3[var] = df_ckFraud_exp3[var].astype('uint32')"
   ]
  },
  {
   "cell_type": "code",
   "execution_count": 32,
   "metadata": {},
   "outputs": [],
   "source": [
    "# Create time features\n",
    "date_var = ['click_time', 'click_date']\n",
    "col_name = 'click_time'\n",
    "\n",
    "for var in date_var:\n",
    "    df_ckFraud_exp1[var] = pd.to_datetime(df_ckFraud_exp1[var])\n",
    "    df_ckFraud_exp2[var] = pd.to_datetime(df_ckFraud_exp2[var])\n",
    "    df_ckFraud_exp3[var] = pd.to_datetime(df_ckFraud_exp3[var])\n",
    "               \n",
    "df_ckFraud_exp1 = create_date_ftrs(df_ckFraud_exp1, col_name)\n",
    "df_ckFraud_exp2 = create_date_ftrs(df_ckFraud_exp2, col_name)\n",
    "df_ckFraud_exp3 = create_date_ftrs(df_ckFraud_exp3, col_name)"
   ]
  },
  {
   "cell_type": "markdown",
   "metadata": {},
   "source": [
    "### Explore Data"
   ]
  },
  {
   "cell_type": "markdown",
   "metadata": {},
   "source": [
    "#### Top 10 apps across Mon and Tues - Experiment 1\n",
    "\n",
    "The popular apps, defined by the number of ad clicks pertaining to the app, are not same between when an app is not downloaded vs when it is downloaded. In other words, although certain mobile app ads are clicked widely, they are not necessarily the ones getting downloaded"
   ]
  },
  {
   "cell_type": "code",
   "execution_count": 54,
   "metadata": {},
   "outputs": [
    {
     "data": {
      "image/png": "[encoded data removed]",
      "text/plain": [
       "<Figure size 720x360 with 2 Axes>"
      ]
     },
     "metadata": {},
     "output_type": "display_data"
    }
   ],
   "source": [
    "%matplotlib inline\n",
    "\n",
    "plot_clickcnt_ftr(df_ckFraud_exp1, 'app', '1')"
   ]
  },
  {
   "cell_type": "markdown",
   "metadata": {},
   "source": [
    "#### Top 10 devices across Mon and Tues - Experiment 1"
   ]
  },
  {
   "cell_type": "code",
   "execution_count": 55,
   "metadata": {},
   "outputs": [
    {
     "data": {
      "image/png": "[encoded data removed]",
      "text/plain": [
       "<Figure size 720x360 with 2 Axes>"
      ]
     },
     "metadata": {},
     "output_type": "display_data"
    }
   ],
   "source": [
    "%matplotlib inline\n",
    "\n",
    "plot_clickcnt_ftr(df_ckFraud_exp1, 'device', '1')"
   ]
  },
  {
   "cell_type": "markdown",
   "metadata": {},
   "source": [
    "Same scenario as apps. Popular devices are different between when apps are downloaded vs when they are not"
   ]
  },
  {
   "cell_type": "markdown",
   "metadata": {},
   "source": [
    "#### Top 10 operating systems across Mon and Tues - Experiment 1"
   ]
  },
  {
   "cell_type": "code",
   "execution_count": 56,
   "metadata": {},
   "outputs": [
    {
     "data": {
      "image/png": "[encoded data removed]",
      "text/plain": [
       "<Figure size 720x360 with 2 Axes>"
      ]
     },
     "metadata": {},
     "output_type": "display_data"
    }
   ],
   "source": [
    "%matplotlib inline\n",
    "\n",
    "plot_clickcnt_ftr(df_ckFraud_exp1, 'os', '1')"
   ]
  },
  {
   "cell_type": "markdown",
   "metadata": {},
   "source": [
    "Popular operating systems are more or less same between when apps are downloaded vs when they are not"
   ]
  },
  {
   "cell_type": "markdown",
   "metadata": {},
   "source": [
    "#### Top 10 channels across Mon and Tues - Experiment 1"
   ]
  },
  {
   "cell_type": "code",
   "execution_count": 57,
   "metadata": {},
   "outputs": [
    {
     "data": {
      "image/png": "[encoded data removed]",
      "text/plain": [
       "<Figure size 720x360 with 2 Axes>"
      ]
     },
     "metadata": {},
     "output_type": "display_data"
    }
   ],
   "source": [
    "%matplotlib inline\n",
    "\n",
    "plot_clickcnt_ftr(df_ckFraud_exp1, 'channel', '1')"
   ]
  },
  {
   "cell_type": "markdown",
   "metadata": {},
   "source": [
    "Same scenario as apps. Popular channels are different between when apps are downloaded vs when they are not"
   ]
  },
  {
   "cell_type": "markdown",
   "metadata": {},
   "source": [
    "### Create Features"
   ]
  },
  {
   "cell_type": "code",
   "execution_count": 10,
   "metadata": {},
   "outputs": [
    {
     "data": {
      "text/plain": [
       "62"
      ]
     },
     "execution_count": 10,
     "metadata": {},
     "output_type": "execute_result"
    }
   ],
   "source": [
    "gc.collect()"
   ]
  },
  {
   "cell_type": "code",
   "execution_count": 17,
   "metadata": {},
   "outputs": [],
   "source": [
    "# Create appropriate features -- from a given ip address and time, number of clicks generated\n",
    "df_ckFraud_exp1 = count_clicks(df_ckFraud_exp1)\n",
    "df_ckFraud_exp2 = count_clicks(df_ckFraud_exp2)\n",
    "df_ckFraud_exp3 = count_clicks(df_ckFraud_exp3)\n",
    "\n",
    "# Drop click time, date and ip \n",
    "df_ckFraud_exp1 = df_ckFraud_exp1.drop(['click_time', 'click_date', 'ip'], axis=1)\n",
    "df_ckFraud_exp2 = df_ckFraud_exp2.drop(['click_time', 'click_date', 'ip'], axis=1)\n",
    "df_ckFraud_exp3 = df_ckFraud_exp3.drop(['click_time', 'click_date', 'ip'], axis=1)"
   ]
  },
  {
   "cell_type": "code",
   "execution_count": 18,
   "metadata": {},
   "outputs": [],
   "source": [
    "# Encode categorical columns -- frequency encoding\n",
    "df_ckFraud_exp1 = encode_cat_ftrs(df_ckFraud_exp1)\n",
    "df_ckFraud_exp2 = encode_cat_ftrs(df_ckFraud_exp2)\n",
    "df_ckFraud_exp3 = encode_cat_ftrs(df_ckFraud_exp3)"
   ]
  },
  {
   "cell_type": "code",
   "execution_count": 12,
   "metadata": {},
   "outputs": [
    {
     "data": {
      "text/html": [
       "<div>\n",
       "<style scoped>\n",
       "    .dataframe tbody tr th:only-of-type {\n",
       "        vertical-align: middle;\n",
       "    }\n",
       "\n",
       "    .dataframe tbody tr th {\n",
       "        vertical-align: top;\n",
       "    }\n",
       "\n",
       "    .dataframe thead th {\n",
       "        text-align: right;\n",
       "    }\n",
       "</style>\n",
       "<table border=\"1\" class=\"dataframe\">\n",
       "  <thead>\n",
       "    <tr style=\"text-align: right;\">\n",
       "      <th></th>\n",
       "      <th>app</th>\n",
       "      <th>device</th>\n",
       "      <th>os</th>\n",
       "      <th>channel</th>\n",
       "      <th>is_downloaded</th>\n",
       "      <th>day</th>\n",
       "      <th>hour</th>\n",
       "      <th>minute</th>\n",
       "      <th>second</th>\n",
       "      <th>clicks_by_ip_day_hr</th>\n",
       "      <th>clicks_by_ip_hr_chnl</th>\n",
       "      <th>clicks_by_ip_hr_os</th>\n",
       "      <th>clicks_by_ip_hr_app</th>\n",
       "      <th>clicks_by_ip_hr_device</th>\n",
       "      <th>app_freq</th>\n",
       "      <th>device_freq</th>\n",
       "      <th>os_freq</th>\n",
       "      <th>channel_freq</th>\n",
       "    </tr>\n",
       "  </thead>\n",
       "  <tbody>\n",
       "    <tr>\n",
       "      <th>1799995</th>\n",
       "      <td>2</td>\n",
       "      <td>1</td>\n",
       "      <td>18</td>\n",
       "      <td>51</td>\n",
       "      <td>0</td>\n",
       "      <td>4</td>\n",
       "      <td>0</td>\n",
       "      <td>10</td>\n",
       "      <td>27</td>\n",
       "      <td>58</td>\n",
       "      <td>19</td>\n",
       "      <td>3</td>\n",
       "      <td>24</td>\n",
       "      <td>94</td>\n",
       "      <td>0.091979</td>\n",
       "      <td>0.947446</td>\n",
       "      <td>0.047518</td>\n",
       "      <td>0.020742</td>\n",
       "    </tr>\n",
       "    <tr>\n",
       "      <th>1799996</th>\n",
       "      <td>3</td>\n",
       "      <td>2</td>\n",
       "      <td>13</td>\n",
       "      <td>84</td>\n",
       "      <td>0</td>\n",
       "      <td>4</td>\n",
       "      <td>0</td>\n",
       "      <td>10</td>\n",
       "      <td>27</td>\n",
       "      <td>32</td>\n",
       "      <td>2</td>\n",
       "      <td>11</td>\n",
       "      <td>7</td>\n",
       "      <td>12</td>\n",
       "      <td>0.169171</td>\n",
       "      <td>0.039588</td>\n",
       "      <td>0.221243</td>\n",
       "      <td>0.058326</td>\n",
       "    </tr>\n",
       "    <tr>\n",
       "      <th>1799997</th>\n",
       "      <td>3</td>\n",
       "      <td>1</td>\n",
       "      <td>13</td>\n",
       "      <td>110</td>\n",
       "      <td>0</td>\n",
       "      <td>4</td>\n",
       "      <td>0</td>\n",
       "      <td>10</td>\n",
       "      <td>27</td>\n",
       "      <td>3</td>\n",
       "      <td>2</td>\n",
       "      <td>3</td>\n",
       "      <td>2</td>\n",
       "      <td>3</td>\n",
       "      <td>0.169171</td>\n",
       "      <td>0.947446</td>\n",
       "      <td>0.221243</td>\n",
       "      <td>0.025615</td>\n",
       "    </tr>\n",
       "    <tr>\n",
       "      <th>1799998</th>\n",
       "      <td>1</td>\n",
       "      <td>1</td>\n",
       "      <td>22</td>\n",
       "      <td>42</td>\n",
       "      <td>0</td>\n",
       "      <td>4</td>\n",
       "      <td>0</td>\n",
       "      <td>10</td>\n",
       "      <td>27</td>\n",
       "      <td>56</td>\n",
       "      <td>9</td>\n",
       "      <td>3</td>\n",
       "      <td>7</td>\n",
       "      <td>139</td>\n",
       "      <td>0.046613</td>\n",
       "      <td>0.947446</td>\n",
       "      <td>0.038723</td>\n",
       "      <td>0.029306</td>\n",
       "    </tr>\n",
       "    <tr>\n",
       "      <th>1799999</th>\n",
       "      <td>11</td>\n",
       "      <td>1</td>\n",
       "      <td>19</td>\n",
       "      <td>45</td>\n",
       "      <td>0</td>\n",
       "      <td>4</td>\n",
       "      <td>0</td>\n",
       "      <td>10</td>\n",
       "      <td>27</td>\n",
       "      <td>59</td>\n",
       "      <td>4</td>\n",
       "      <td>59</td>\n",
       "      <td>5</td>\n",
       "      <td>80</td>\n",
       "      <td>0.014798</td>\n",
       "      <td>0.947446</td>\n",
       "      <td>0.247792</td>\n",
       "      <td>0.007015</td>\n",
       "    </tr>\n",
       "  </tbody>\n",
       "</table>\n",
       "</div>"
      ],
      "text/plain": [
       "         app  device  os  channel  is_downloaded  day  hour  minute  second  \\\n",
       "1799995    2       1  18       51              0    4     0      10      27   \n",
       "1799996    3       2  13       84              0    4     0      10      27   \n",
       "1799997    3       1  13      110              0    4     0      10      27   \n",
       "1799998    1       1  22       42              0    4     0      10      27   \n",
       "1799999   11       1  19       45              0    4     0      10      27   \n",
       "\n",
       "         clicks_by_ip_day_hr  clicks_by_ip_hr_chnl  clicks_by_ip_hr_os  \\\n",
       "1799995                   58                    19                   3   \n",
       "1799996                   32                     2                  11   \n",
       "1799997                    3                     2                   3   \n",
       "1799998                   56                     9                   3   \n",
       "1799999                   59                     4                  59   \n",
       "\n",
       "         clicks_by_ip_hr_app  clicks_by_ip_hr_device  app_freq  device_freq  \\\n",
       "1799995                   24                      94  0.091979     0.947446   \n",
       "1799996                    7                      12  0.169171     0.039588   \n",
       "1799997                    2                       3  0.169171     0.947446   \n",
       "1799998                    7                     139  0.046613     0.947446   \n",
       "1799999                    5                      80  0.014798     0.947446   \n",
       "\n",
       "          os_freq  channel_freq  \n",
       "1799995  0.047518      0.020742  \n",
       "1799996  0.221243      0.058326  \n",
       "1799997  0.221243      0.025615  \n",
       "1799998  0.038723      0.029306  \n",
       "1799999  0.247792      0.007015  "
      ]
     },
     "execution_count": 12,
     "metadata": {},
     "output_type": "execute_result"
    }
   ],
   "source": [
    "# Check the prepared dataset\n",
    "df_ckFraud_exp2.tail()"
   ]
  },
  {
   "cell_type": "code",
   "execution_count": 15,
   "metadata": {},
   "outputs": [
    {
     "data": {
      "text/plain": [
       "1800000"
      ]
     },
     "execution_count": 15,
     "metadata": {},
     "output_type": "execute_result"
    }
   ],
   "source": [
    "#df_ckFraud_exp2.groupby('app').size()\n",
    "#df_ckFraud_exp2.shape[0]"
   ]
  },
  {
   "cell_type": "markdown",
   "metadata": {},
   "source": [
    "#### Ensure there are no missing values"
   ]
  },
  {
   "cell_type": "code",
   "execution_count": 13,
   "metadata": {},
   "outputs": [
    {
     "data": {
      "text/plain": [
       "app                       0\n",
       "device                    0\n",
       "os                        0\n",
       "channel                   0\n",
       "is_downloaded             0\n",
       "day                       0\n",
       "hour                      0\n",
       "minute                    0\n",
       "second                    0\n",
       "clicks_by_ip_day_hr       0\n",
       "clicks_by_ip_hr_chnl      0\n",
       "clicks_by_ip_hr_os        0\n",
       "clicks_by_ip_hr_app       0\n",
       "clicks_by_ip_hr_device    0\n",
       "app_freq                  0\n",
       "device_freq               0\n",
       "os_freq                   0\n",
       "channel_freq              0\n",
       "dtype: int64"
      ]
     },
     "execution_count": 13,
     "metadata": {},
     "output_type": "execute_result"
    }
   ],
   "source": [
    "# Ensure there are no missing values\n",
    "df_ckFraud_exp3.apply(lambda x: sum(x.isnull()))\n",
    "#data.apply(lambda x: sum(x.isnull()))"
   ]
  },
  {
   "cell_type": "code",
   "execution_count": 14,
   "metadata": {},
   "outputs": [
    {
     "data": {
      "text/html": [
       "<div>\n",
       "<style scoped>\n",
       "    .dataframe tbody tr th:only-of-type {\n",
       "        vertical-align: middle;\n",
       "    }\n",
       "\n",
       "    .dataframe tbody tr th {\n",
       "        vertical-align: top;\n",
       "    }\n",
       "\n",
       "    .dataframe thead th {\n",
       "        text-align: right;\n",
       "    }\n",
       "</style>\n",
       "<table border=\"1\" class=\"dataframe\">\n",
       "  <thead>\n",
       "    <tr style=\"text-align: right;\">\n",
       "      <th></th>\n",
       "      <th>app</th>\n",
       "      <th>device</th>\n",
       "      <th>os</th>\n",
       "      <th>channel</th>\n",
       "      <th>is_downloaded</th>\n",
       "      <th>day</th>\n",
       "      <th>hour</th>\n",
       "      <th>minute</th>\n",
       "      <th>second</th>\n",
       "      <th>clicks_by_ip_day_hr</th>\n",
       "      <th>clicks_by_ip_hr_chnl</th>\n",
       "      <th>clicks_by_ip_hr_os</th>\n",
       "      <th>clicks_by_ip_hr_app</th>\n",
       "      <th>clicks_by_ip_hr_device</th>\n",
       "      <th>app_freq</th>\n",
       "      <th>device_freq</th>\n",
       "      <th>os_freq</th>\n",
       "      <th>channel_freq</th>\n",
       "    </tr>\n",
       "  </thead>\n",
       "  <tbody>\n",
       "    <tr>\n",
       "      <th>app</th>\n",
       "      <td>1.000000</td>\n",
       "      <td>0.158022</td>\n",
       "      <td>0.141765</td>\n",
       "      <td>-0.030068</td>\n",
       "      <td>0.058519</td>\n",
       "      <td>0.014786</td>\n",
       "      <td>-0.014782</td>\n",
       "      <td>0.010294</td>\n",
       "      <td>-0.001414</td>\n",
       "      <td>-0.008291</td>\n",
       "      <td>-0.043687</td>\n",
       "      <td>-0.025790</td>\n",
       "      <td>-0.058217</td>\n",
       "      <td>-0.020919</td>\n",
       "      <td>-0.425326</td>\n",
       "      <td>-0.096505</td>\n",
       "      <td>-0.044316</td>\n",
       "      <td>-0.068054</td>\n",
       "    </tr>\n",
       "    <tr>\n",
       "      <th>device</th>\n",
       "      <td>0.158022</td>\n",
       "      <td>1.000000</td>\n",
       "      <td>0.851941</td>\n",
       "      <td>-0.077587</td>\n",
       "      <td>0.007776</td>\n",
       "      <td>0.006948</td>\n",
       "      <td>-0.006943</td>\n",
       "      <td>0.001043</td>\n",
       "      <td>-0.000758</td>\n",
       "      <td>-0.006281</td>\n",
       "      <td>-0.004494</td>\n",
       "      <td>-0.027571</td>\n",
       "      <td>-0.011063</td>\n",
       "      <td>-0.030611</td>\n",
       "      <td>-0.041630</td>\n",
       "      <td>-0.423654</td>\n",
       "      <td>-0.104758</td>\n",
       "      <td>0.021604</td>\n",
       "    </tr>\n",
       "    <tr>\n",
       "      <th>os</th>\n",
       "      <td>0.141765</td>\n",
       "      <td>0.851941</td>\n",
       "      <td>1.000000</td>\n",
       "      <td>-0.056749</td>\n",
       "      <td>-0.001451</td>\n",
       "      <td>0.008148</td>\n",
       "      <td>-0.008140</td>\n",
       "      <td>-0.000644</td>\n",
       "      <td>-0.001469</td>\n",
       "      <td>-0.002912</td>\n",
       "      <td>-0.001291</td>\n",
       "      <td>-0.038357</td>\n",
       "      <td>-0.007185</td>\n",
       "      <td>-0.026420</td>\n",
       "      <td>-0.043836</td>\n",
       "      <td>-0.380922</td>\n",
       "      <td>-0.184141</td>\n",
       "      <td>0.000538</td>\n",
       "    </tr>\n",
       "    <tr>\n",
       "      <th>channel</th>\n",
       "      <td>-0.030068</td>\n",
       "      <td>-0.077587</td>\n",
       "      <td>-0.056749</td>\n",
       "      <td>1.000000</td>\n",
       "      <td>-0.016482</td>\n",
       "      <td>0.053915</td>\n",
       "      <td>-0.053976</td>\n",
       "      <td>0.019662</td>\n",
       "      <td>-0.003592</td>\n",
       "      <td>-0.018300</td>\n",
       "      <td>-0.076272</td>\n",
       "      <td>-0.030014</td>\n",
       "      <td>-0.022824</td>\n",
       "      <td>-0.011767</td>\n",
       "      <td>0.049374</td>\n",
       "      <td>0.085903</td>\n",
       "      <td>0.018447</td>\n",
       "      <td>-0.331483</td>\n",
       "    </tr>\n",
       "    <tr>\n",
       "      <th>is_downloaded</th>\n",
       "      <td>0.058519</td>\n",
       "      <td>0.007776</td>\n",
       "      <td>-0.001451</td>\n",
       "      <td>-0.016482</td>\n",
       "      <td>1.000000</td>\n",
       "      <td>0.001237</td>\n",
       "      <td>-0.001237</td>\n",
       "      <td>0.003675</td>\n",
       "      <td>-0.000239</td>\n",
       "      <td>-0.007840</td>\n",
       "      <td>-0.010863</td>\n",
       "      <td>-0.010035</td>\n",
       "      <td>-0.009858</td>\n",
       "      <td>-0.008612</td>\n",
       "      <td>-0.062210</td>\n",
       "      <td>-0.042520</td>\n",
       "      <td>-0.005146</td>\n",
       "      <td>-0.038358</td>\n",
       "    </tr>\n",
       "    <tr>\n",
       "      <th>day</th>\n",
       "      <td>0.014786</td>\n",
       "      <td>0.006948</td>\n",
       "      <td>0.008148</td>\n",
       "      <td>0.053915</td>\n",
       "      <td>0.001237</td>\n",
       "      <td>1.000000</td>\n",
       "      <td>-0.999996</td>\n",
       "      <td>-0.087434</td>\n",
       "      <td>-0.006234</td>\n",
       "      <td>-0.116006</td>\n",
       "      <td>-0.115471</td>\n",
       "      <td>-0.093681</td>\n",
       "      <td>-0.102169</td>\n",
       "      <td>-0.112401</td>\n",
       "      <td>-0.006360</td>\n",
       "      <td>0.043364</td>\n",
       "      <td>0.009874</td>\n",
       "      <td>-0.100819</td>\n",
       "    </tr>\n",
       "    <tr>\n",
       "      <th>hour</th>\n",
       "      <td>-0.014782</td>\n",
       "      <td>-0.006943</td>\n",
       "      <td>-0.008140</td>\n",
       "      <td>-0.053976</td>\n",
       "      <td>-0.001237</td>\n",
       "      <td>-0.999996</td>\n",
       "      <td>1.000000</td>\n",
       "      <td>0.086775</td>\n",
       "      <td>0.006227</td>\n",
       "      <td>0.116030</td>\n",
       "      <td>0.115493</td>\n",
       "      <td>0.093705</td>\n",
       "      <td>0.102188</td>\n",
       "      <td>0.112425</td>\n",
       "      <td>0.006313</td>\n",
       "      <td>-0.043379</td>\n",
       "      <td>-0.009892</td>\n",
       "      <td>0.100861</td>\n",
       "    </tr>\n",
       "    <tr>\n",
       "      <th>minute</th>\n",
       "      <td>0.010294</td>\n",
       "      <td>0.001043</td>\n",
       "      <td>-0.000644</td>\n",
       "      <td>0.019662</td>\n",
       "      <td>0.003675</td>\n",
       "      <td>-0.087434</td>\n",
       "      <td>0.086775</td>\n",
       "      <td>1.000000</td>\n",
       "      <td>-0.067187</td>\n",
       "      <td>0.012484</td>\n",
       "      <td>0.018248</td>\n",
       "      <td>0.013310</td>\n",
       "      <td>0.017185</td>\n",
       "      <td>0.012277</td>\n",
       "      <td>0.022707</td>\n",
       "      <td>-0.003262</td>\n",
       "      <td>0.003801</td>\n",
       "      <td>-0.007235</td>\n",
       "    </tr>\n",
       "    <tr>\n",
       "      <th>second</th>\n",
       "      <td>-0.001414</td>\n",
       "      <td>-0.000758</td>\n",
       "      <td>-0.001469</td>\n",
       "      <td>-0.003592</td>\n",
       "      <td>-0.000239</td>\n",
       "      <td>-0.006234</td>\n",
       "      <td>0.006227</td>\n",
       "      <td>-0.067187</td>\n",
       "      <td>1.000000</td>\n",
       "      <td>-0.000716</td>\n",
       "      <td>0.000794</td>\n",
       "      <td>0.000698</td>\n",
       "      <td>-0.000601</td>\n",
       "      <td>-0.000316</td>\n",
       "      <td>-0.004619</td>\n",
       "      <td>-0.000812</td>\n",
       "      <td>-0.002031</td>\n",
       "      <td>-0.004171</td>\n",
       "    </tr>\n",
       "    <tr>\n",
       "      <th>clicks_by_ip_day_hr</th>\n",
       "      <td>-0.008291</td>\n",
       "      <td>-0.006281</td>\n",
       "      <td>-0.002912</td>\n",
       "      <td>-0.018300</td>\n",
       "      <td>-0.007840</td>\n",
       "      <td>-0.116006</td>\n",
       "      <td>0.116030</td>\n",
       "      <td>0.012484</td>\n",
       "      <td>-0.000716</td>\n",
       "      <td>1.000000</td>\n",
       "      <td>0.652071</td>\n",
       "      <td>0.706241</td>\n",
       "      <td>0.800414</td>\n",
       "      <td>0.947810</td>\n",
       "      <td>0.025189</td>\n",
       "      <td>-0.069033</td>\n",
       "      <td>0.005872</td>\n",
       "      <td>0.009254</td>\n",
       "    </tr>\n",
       "    <tr>\n",
       "      <th>clicks_by_ip_hr_chnl</th>\n",
       "      <td>-0.043687</td>\n",
       "      <td>-0.004494</td>\n",
       "      <td>-0.001291</td>\n",
       "      <td>-0.076272</td>\n",
       "      <td>-0.010863</td>\n",
       "      <td>-0.115471</td>\n",
       "      <td>0.115493</td>\n",
       "      <td>0.018248</td>\n",
       "      <td>0.000794</td>\n",
       "      <td>0.652071</td>\n",
       "      <td>1.000000</td>\n",
       "      <td>0.532199</td>\n",
       "      <td>0.762710</td>\n",
       "      <td>0.614124</td>\n",
       "      <td>0.027804</td>\n",
       "      <td>-0.061499</td>\n",
       "      <td>0.001126</td>\n",
       "      <td>0.125745</td>\n",
       "    </tr>\n",
       "    <tr>\n",
       "      <th>clicks_by_ip_hr_os</th>\n",
       "      <td>-0.025790</td>\n",
       "      <td>-0.027571</td>\n",
       "      <td>-0.038357</td>\n",
       "      <td>-0.030014</td>\n",
       "      <td>-0.010035</td>\n",
       "      <td>-0.093681</td>\n",
       "      <td>0.093705</td>\n",
       "      <td>0.013310</td>\n",
       "      <td>0.000698</td>\n",
       "      <td>0.706241</td>\n",
       "      <td>0.532199</td>\n",
       "      <td>1.000000</td>\n",
       "      <td>0.588289</td>\n",
       "      <td>0.708268</td>\n",
       "      <td>-0.003630</td>\n",
       "      <td>0.002867</td>\n",
       "      <td>0.181192</td>\n",
       "      <td>0.039857</td>\n",
       "    </tr>\n",
       "    <tr>\n",
       "      <th>clicks_by_ip_hr_app</th>\n",
       "      <td>-0.058217</td>\n",
       "      <td>-0.011063</td>\n",
       "      <td>-0.007185</td>\n",
       "      <td>-0.022824</td>\n",
       "      <td>-0.009858</td>\n",
       "      <td>-0.102169</td>\n",
       "      <td>0.102188</td>\n",
       "      <td>0.017185</td>\n",
       "      <td>-0.000601</td>\n",
       "      <td>0.800414</td>\n",
       "      <td>0.762710</td>\n",
       "      <td>0.588289</td>\n",
       "      <td>1.000000</td>\n",
       "      <td>0.757810</td>\n",
       "      <td>0.122944</td>\n",
       "      <td>-0.053883</td>\n",
       "      <td>0.004422</td>\n",
       "      <td>0.010069</td>\n",
       "    </tr>\n",
       "    <tr>\n",
       "      <th>clicks_by_ip_hr_device</th>\n",
       "      <td>-0.020919</td>\n",
       "      <td>-0.030611</td>\n",
       "      <td>-0.026420</td>\n",
       "      <td>-0.011767</td>\n",
       "      <td>-0.008612</td>\n",
       "      <td>-0.112401</td>\n",
       "      <td>0.112425</td>\n",
       "      <td>0.012277</td>\n",
       "      <td>-0.000316</td>\n",
       "      <td>0.947810</td>\n",
       "      <td>0.614124</td>\n",
       "      <td>0.708268</td>\n",
       "      <td>0.757810</td>\n",
       "      <td>1.000000</td>\n",
       "      <td>0.026914</td>\n",
       "      <td>0.054993</td>\n",
       "      <td>0.019306</td>\n",
       "      <td>0.011287</td>\n",
       "    </tr>\n",
       "    <tr>\n",
       "      <th>app_freq</th>\n",
       "      <td>-0.425326</td>\n",
       "      <td>-0.041630</td>\n",
       "      <td>-0.043836</td>\n",
       "      <td>0.049374</td>\n",
       "      <td>-0.062210</td>\n",
       "      <td>-0.006360</td>\n",
       "      <td>0.006313</td>\n",
       "      <td>0.022707</td>\n",
       "      <td>-0.004619</td>\n",
       "      <td>0.025189</td>\n",
       "      <td>0.027804</td>\n",
       "      <td>-0.003630</td>\n",
       "      <td>0.122944</td>\n",
       "      <td>0.026914</td>\n",
       "      <td>1.000000</td>\n",
       "      <td>0.040419</td>\n",
       "      <td>0.019882</td>\n",
       "      <td>0.092246</td>\n",
       "    </tr>\n",
       "    <tr>\n",
       "      <th>device_freq</th>\n",
       "      <td>-0.096505</td>\n",
       "      <td>-0.423654</td>\n",
       "      <td>-0.380922</td>\n",
       "      <td>0.085903</td>\n",
       "      <td>-0.042520</td>\n",
       "      <td>0.043364</td>\n",
       "      <td>-0.043379</td>\n",
       "      <td>-0.003262</td>\n",
       "      <td>-0.000812</td>\n",
       "      <td>-0.069033</td>\n",
       "      <td>-0.061499</td>\n",
       "      <td>0.002867</td>\n",
       "      <td>-0.053883</td>\n",
       "      <td>0.054993</td>\n",
       "      <td>0.040419</td>\n",
       "      <td>1.000000</td>\n",
       "      <td>0.121879</td>\n",
       "      <td>-0.006112</td>\n",
       "    </tr>\n",
       "    <tr>\n",
       "      <th>os_freq</th>\n",
       "      <td>-0.044316</td>\n",
       "      <td>-0.104758</td>\n",
       "      <td>-0.184141</td>\n",
       "      <td>0.018447</td>\n",
       "      <td>-0.005146</td>\n",
       "      <td>0.009874</td>\n",
       "      <td>-0.009892</td>\n",
       "      <td>0.003801</td>\n",
       "      <td>-0.002031</td>\n",
       "      <td>0.005872</td>\n",
       "      <td>0.001126</td>\n",
       "      <td>0.181192</td>\n",
       "      <td>0.004422</td>\n",
       "      <td>0.019306</td>\n",
       "      <td>0.019882</td>\n",
       "      <td>0.121879</td>\n",
       "      <td>1.000000</td>\n",
       "      <td>0.001457</td>\n",
       "    </tr>\n",
       "    <tr>\n",
       "      <th>channel_freq</th>\n",
       "      <td>-0.068054</td>\n",
       "      <td>0.021604</td>\n",
       "      <td>0.000538</td>\n",
       "      <td>-0.331483</td>\n",
       "      <td>-0.038358</td>\n",
       "      <td>-0.100819</td>\n",
       "      <td>0.100861</td>\n",
       "      <td>-0.007235</td>\n",
       "      <td>-0.004171</td>\n",
       "      <td>0.009254</td>\n",
       "      <td>0.125745</td>\n",
       "      <td>0.039857</td>\n",
       "      <td>0.010069</td>\n",
       "      <td>0.011287</td>\n",
       "      <td>0.092246</td>\n",
       "      <td>-0.006112</td>\n",
       "      <td>0.001457</td>\n",
       "      <td>1.000000</td>\n",
       "    </tr>\n",
       "  </tbody>\n",
       "</table>\n",
       "</div>"
      ],
      "text/plain": [
       "                             app    device        os   channel  is_downloaded  \\\n",
       "app                     1.000000  0.158022  0.141765 -0.030068       0.058519   \n",
       "device                  0.158022  1.000000  0.851941 -0.077587       0.007776   \n",
       "os                      0.141765  0.851941  1.000000 -0.056749      -0.001451   \n",
       "channel                -0.030068 -0.077587 -0.056749  1.000000      -0.016482   \n",
       "is_downloaded           0.058519  0.007776 -0.001451 -0.016482       1.000000   \n",
       "day                     0.014786  0.006948  0.008148  0.053915       0.001237   \n",
       "hour                   -0.014782 -0.006943 -0.008140 -0.053976      -0.001237   \n",
       "minute                  0.010294  0.001043 -0.000644  0.019662       0.003675   \n",
       "second                 -0.001414 -0.000758 -0.001469 -0.003592      -0.000239   \n",
       "clicks_by_ip_day_hr    -0.008291 -0.006281 -0.002912 -0.018300      -0.007840   \n",
       "clicks_by_ip_hr_chnl   -0.043687 -0.004494 -0.001291 -0.076272      -0.010863   \n",
       "clicks_by_ip_hr_os     -0.025790 -0.027571 -0.038357 -0.030014      -0.010035   \n",
       "clicks_by_ip_hr_app    -0.058217 -0.011063 -0.007185 -0.022824      -0.009858   \n",
       "clicks_by_ip_hr_device -0.020919 -0.030611 -0.026420 -0.011767      -0.008612   \n",
       "app_freq               -0.425326 -0.041630 -0.043836  0.049374      -0.062210   \n",
       "device_freq            -0.096505 -0.423654 -0.380922  0.085903      -0.042520   \n",
       "os_freq                -0.044316 -0.104758 -0.184141  0.018447      -0.005146   \n",
       "channel_freq           -0.068054  0.021604  0.000538 -0.331483      -0.038358   \n",
       "\n",
       "                             day      hour    minute    second  \\\n",
       "app                     0.014786 -0.014782  0.010294 -0.001414   \n",
       "device                  0.006948 -0.006943  0.001043 -0.000758   \n",
       "os                      0.008148 -0.008140 -0.000644 -0.001469   \n",
       "channel                 0.053915 -0.053976  0.019662 -0.003592   \n",
       "is_downloaded           0.001237 -0.001237  0.003675 -0.000239   \n",
       "day                     1.000000 -0.999996 -0.087434 -0.006234   \n",
       "hour                   -0.999996  1.000000  0.086775  0.006227   \n",
       "minute                 -0.087434  0.086775  1.000000 -0.067187   \n",
       "second                 -0.006234  0.006227 -0.067187  1.000000   \n",
       "clicks_by_ip_day_hr    -0.116006  0.116030  0.012484 -0.000716   \n",
       "clicks_by_ip_hr_chnl   -0.115471  0.115493  0.018248  0.000794   \n",
       "clicks_by_ip_hr_os     -0.093681  0.093705  0.013310  0.000698   \n",
       "clicks_by_ip_hr_app    -0.102169  0.102188  0.017185 -0.000601   \n",
       "clicks_by_ip_hr_device -0.112401  0.112425  0.012277 -0.000316   \n",
       "app_freq               -0.006360  0.006313  0.022707 -0.004619   \n",
       "device_freq             0.043364 -0.043379 -0.003262 -0.000812   \n",
       "os_freq                 0.009874 -0.009892  0.003801 -0.002031   \n",
       "channel_freq           -0.100819  0.100861 -0.007235 -0.004171   \n",
       "\n",
       "                        clicks_by_ip_day_hr  clicks_by_ip_hr_chnl  \\\n",
       "app                               -0.008291             -0.043687   \n",
       "device                            -0.006281             -0.004494   \n",
       "os                                -0.002912             -0.001291   \n",
       "channel                           -0.018300             -0.076272   \n",
       "is_downloaded                     -0.007840             -0.010863   \n",
       "day                               -0.116006             -0.115471   \n",
       "hour                               0.116030              0.115493   \n",
       "minute                             0.012484              0.018248   \n",
       "second                            -0.000716              0.000794   \n",
       "clicks_by_ip_day_hr                1.000000              0.652071   \n",
       "clicks_by_ip_hr_chnl               0.652071              1.000000   \n",
       "clicks_by_ip_hr_os                 0.706241              0.532199   \n",
       "clicks_by_ip_hr_app                0.800414              0.762710   \n",
       "clicks_by_ip_hr_device             0.947810              0.614124   \n",
       "app_freq                           0.025189              0.027804   \n",
       "device_freq                       -0.069033             -0.061499   \n",
       "os_freq                            0.005872              0.001126   \n",
       "channel_freq                       0.009254              0.125745   \n",
       "\n",
       "                        clicks_by_ip_hr_os  clicks_by_ip_hr_app  \\\n",
       "app                              -0.025790            -0.058217   \n",
       "device                           -0.027571            -0.011063   \n",
       "os                               -0.038357            -0.007185   \n",
       "channel                          -0.030014            -0.022824   \n",
       "is_downloaded                    -0.010035            -0.009858   \n",
       "day                              -0.093681            -0.102169   \n",
       "hour                              0.093705             0.102188   \n",
       "minute                            0.013310             0.017185   \n",
       "second                            0.000698            -0.000601   \n",
       "clicks_by_ip_day_hr               0.706241             0.800414   \n",
       "clicks_by_ip_hr_chnl              0.532199             0.762710   \n",
       "clicks_by_ip_hr_os                1.000000             0.588289   \n",
       "clicks_by_ip_hr_app               0.588289             1.000000   \n",
       "clicks_by_ip_hr_device            0.708268             0.757810   \n",
       "app_freq                         -0.003630             0.122944   \n",
       "device_freq                       0.002867            -0.053883   \n",
       "os_freq                           0.181192             0.004422   \n",
       "channel_freq                      0.039857             0.010069   \n",
       "\n",
       "                        clicks_by_ip_hr_device  app_freq  device_freq  \\\n",
       "app                                  -0.020919 -0.425326    -0.096505   \n",
       "device                               -0.030611 -0.041630    -0.423654   \n",
       "os                                   -0.026420 -0.043836    -0.380922   \n",
       "channel                              -0.011767  0.049374     0.085903   \n",
       "is_downloaded                        -0.008612 -0.062210    -0.042520   \n",
       "day                                  -0.112401 -0.006360     0.043364   \n",
       "hour                                  0.112425  0.006313    -0.043379   \n",
       "minute                                0.012277  0.022707    -0.003262   \n",
       "second                               -0.000316 -0.004619    -0.000812   \n",
       "clicks_by_ip_day_hr                   0.947810  0.025189    -0.069033   \n",
       "clicks_by_ip_hr_chnl                  0.614124  0.027804    -0.061499   \n",
       "clicks_by_ip_hr_os                    0.708268 -0.003630     0.002867   \n",
       "clicks_by_ip_hr_app                   0.757810  0.122944    -0.053883   \n",
       "clicks_by_ip_hr_device                1.000000  0.026914     0.054993   \n",
       "app_freq                              0.026914  1.000000     0.040419   \n",
       "device_freq                           0.054993  0.040419     1.000000   \n",
       "os_freq                               0.019306  0.019882     0.121879   \n",
       "channel_freq                          0.011287  0.092246    -0.006112   \n",
       "\n",
       "                         os_freq  channel_freq  \n",
       "app                    -0.044316     -0.068054  \n",
       "device                 -0.104758      0.021604  \n",
       "os                     -0.184141      0.000538  \n",
       "channel                 0.018447     -0.331483  \n",
       "is_downloaded          -0.005146     -0.038358  \n",
       "day                     0.009874     -0.100819  \n",
       "hour                   -0.009892      0.100861  \n",
       "minute                  0.003801     -0.007235  \n",
       "second                 -0.002031     -0.004171  \n",
       "clicks_by_ip_day_hr     0.005872      0.009254  \n",
       "clicks_by_ip_hr_chnl    0.001126      0.125745  \n",
       "clicks_by_ip_hr_os      0.181192      0.039857  \n",
       "clicks_by_ip_hr_app     0.004422      0.010069  \n",
       "clicks_by_ip_hr_device  0.019306      0.011287  \n",
       "app_freq                0.019882      0.092246  \n",
       "device_freq             0.121879     -0.006112  \n",
       "os_freq                 1.000000      0.001457  \n",
       "channel_freq            0.001457      1.000000  "
      ]
     },
     "execution_count": 14,
     "metadata": {},
     "output_type": "execute_result"
    }
   ],
   "source": [
    "# Correlation\n",
    "df_ckFraud_exp1.corr()"
   ]
  },
  {
   "cell_type": "code",
   "execution_count": 15,
   "metadata": {},
   "outputs": [
    {
     "data": {
      "text/plain": [
       "<matplotlib.axes._subplots.AxesSubplot at 0x7fe842969668>"
      ]
     },
     "execution_count": 15,
     "metadata": {},
     "output_type": "execute_result"
    },
    {
     "data": {
      "image/png": "[encoded data removed]",
      "text/plain": [
       "<Figure size 720x720 with 2 Axes>"
      ]
     },
     "metadata": {},
     "output_type": "display_data"
    }
   ],
   "source": [
    "fig, ax = plt.subplots(figsize=(10, 10))\n",
    "sns.heatmap(df_ckFraud_exp1.corr(), linewidth=.5, ax=ax)"
   ]
  },
  {
   "cell_type": "markdown",
   "metadata": {},
   "source": [
    "## Running Experiments\n",
    "\n",
    "To understand the significance of feedback loop, we will train tree-based model (XGBoost) to predict the probability that an ad click (related to an app) results in app download:\n",
    "* Experiment 1: Train on click data for Monday and Tuesday and predict/score portion of the clicks from Thursday (clicks from later part of the day)\n",
    "* Experiment 2: Let’s assume that we have more data available in data lake environment to retrain the classification model. We will train on click data for Monday, Tuesday, & Wednesday and predict/score portion of the clicks from Thursday\n",
    "* Experiment 3: Similarly, we will train on click data for Monday, Tuesday, Wednesday & part of Thursday and predict/score portion of the clicks from Thursday\n"
   ]
  },
  {
   "cell_type": "markdown",
   "metadata": {},
   "source": [
    "Set current experiment: Fit the classification model for each of the experiments, host the trained model and run inferences. For each of the three experiments, run \"create train, validation and test\" and \"training\" sections"
   ]
  },
  {
   "cell_type": "code",
   "execution_count": 115,
   "metadata": {},
   "outputs": [
    {
     "data": {
      "text/html": [
       "<div>\n",
       "<style scoped>\n",
       "    .dataframe tbody tr th:only-of-type {\n",
       "        vertical-align: middle;\n",
       "    }\n",
       "\n",
       "    .dataframe tbody tr th {\n",
       "        vertical-align: top;\n",
       "    }\n",
       "\n",
       "    .dataframe thead th {\n",
       "        text-align: right;\n",
       "    }\n",
       "</style>\n",
       "<table border=\"1\" class=\"dataframe\">\n",
       "  <thead>\n",
       "    <tr style=\"text-align: right;\">\n",
       "      <th></th>\n",
       "      <th>app</th>\n",
       "      <th>device</th>\n",
       "      <th>os</th>\n",
       "      <th>channel</th>\n",
       "      <th>is_downloaded</th>\n",
       "      <th>day</th>\n",
       "      <th>hour</th>\n",
       "      <th>minute</th>\n",
       "      <th>second</th>\n",
       "      <th>clicks_by_ip_day_hr</th>\n",
       "      <th>clicks_by_ip_hr_chnl</th>\n",
       "      <th>clicks_by_ip_hr_os</th>\n",
       "      <th>clicks_by_ip_hr_app</th>\n",
       "      <th>clicks_by_ip_hr_device</th>\n",
       "      <th>app_freq</th>\n",
       "      <th>device_freq</th>\n",
       "      <th>os_freq</th>\n",
       "      <th>channel_freq</th>\n",
       "    </tr>\n",
       "  </thead>\n",
       "  <tbody>\n",
       "    <tr>\n",
       "      <th>1799995</th>\n",
       "      <td>2</td>\n",
       "      <td>1</td>\n",
       "      <td>18</td>\n",
       "      <td>51</td>\n",
       "      <td>0</td>\n",
       "      <td>4</td>\n",
       "      <td>0</td>\n",
       "      <td>10</td>\n",
       "      <td>27</td>\n",
       "      <td>58</td>\n",
       "      <td>19</td>\n",
       "      <td>3</td>\n",
       "      <td>24</td>\n",
       "      <td>94</td>\n",
       "      <td>0.091979</td>\n",
       "      <td>0.947446</td>\n",
       "      <td>0.047518</td>\n",
       "      <td>0.020742</td>\n",
       "    </tr>\n",
       "    <tr>\n",
       "      <th>1799996</th>\n",
       "      <td>3</td>\n",
       "      <td>2</td>\n",
       "      <td>13</td>\n",
       "      <td>84</td>\n",
       "      <td>0</td>\n",
       "      <td>4</td>\n",
       "      <td>0</td>\n",
       "      <td>10</td>\n",
       "      <td>27</td>\n",
       "      <td>32</td>\n",
       "      <td>2</td>\n",
       "      <td>11</td>\n",
       "      <td>7</td>\n",
       "      <td>12</td>\n",
       "      <td>0.169171</td>\n",
       "      <td>0.039588</td>\n",
       "      <td>0.221243</td>\n",
       "      <td>0.058326</td>\n",
       "    </tr>\n",
       "    <tr>\n",
       "      <th>1799997</th>\n",
       "      <td>3</td>\n",
       "      <td>1</td>\n",
       "      <td>13</td>\n",
       "      <td>110</td>\n",
       "      <td>0</td>\n",
       "      <td>4</td>\n",
       "      <td>0</td>\n",
       "      <td>10</td>\n",
       "      <td>27</td>\n",
       "      <td>3</td>\n",
       "      <td>2</td>\n",
       "      <td>3</td>\n",
       "      <td>2</td>\n",
       "      <td>3</td>\n",
       "      <td>0.169171</td>\n",
       "      <td>0.947446</td>\n",
       "      <td>0.221243</td>\n",
       "      <td>0.025615</td>\n",
       "    </tr>\n",
       "    <tr>\n",
       "      <th>1799998</th>\n",
       "      <td>1</td>\n",
       "      <td>1</td>\n",
       "      <td>22</td>\n",
       "      <td>42</td>\n",
       "      <td>0</td>\n",
       "      <td>4</td>\n",
       "      <td>0</td>\n",
       "      <td>10</td>\n",
       "      <td>27</td>\n",
       "      <td>56</td>\n",
       "      <td>9</td>\n",
       "      <td>3</td>\n",
       "      <td>7</td>\n",
       "      <td>139</td>\n",
       "      <td>0.046613</td>\n",
       "      <td>0.947446</td>\n",
       "      <td>0.038723</td>\n",
       "      <td>0.029306</td>\n",
       "    </tr>\n",
       "    <tr>\n",
       "      <th>1799999</th>\n",
       "      <td>11</td>\n",
       "      <td>1</td>\n",
       "      <td>19</td>\n",
       "      <td>45</td>\n",
       "      <td>0</td>\n",
       "      <td>4</td>\n",
       "      <td>0</td>\n",
       "      <td>10</td>\n",
       "      <td>27</td>\n",
       "      <td>59</td>\n",
       "      <td>4</td>\n",
       "      <td>59</td>\n",
       "      <td>5</td>\n",
       "      <td>80</td>\n",
       "      <td>0.014798</td>\n",
       "      <td>0.947446</td>\n",
       "      <td>0.247792</td>\n",
       "      <td>0.007015</td>\n",
       "    </tr>\n",
       "  </tbody>\n",
       "</table>\n",
       "</div>"
      ],
      "text/plain": [
       "         app  device  os  channel  is_downloaded  day  hour  minute  second  \\\n",
       "1799995    2       1  18       51              0    4     0      10      27   \n",
       "1799996    3       2  13       84              0    4     0      10      27   \n",
       "1799997    3       1  13      110              0    4     0      10      27   \n",
       "1799998    1       1  22       42              0    4     0      10      27   \n",
       "1799999   11       1  19       45              0    4     0      10      27   \n",
       "\n",
       "         clicks_by_ip_day_hr  clicks_by_ip_hr_chnl  clicks_by_ip_hr_os  \\\n",
       "1799995                   58                    19                   3   \n",
       "1799996                   32                     2                  11   \n",
       "1799997                    3                     2                   3   \n",
       "1799998                   56                     9                   3   \n",
       "1799999                   59                     4                  59   \n",
       "\n",
       "         clicks_by_ip_hr_app  clicks_by_ip_hr_device  app_freq  device_freq  \\\n",
       "1799995                   24                      94  0.091979     0.947446   \n",
       "1799996                    7                      12  0.169171     0.039588   \n",
       "1799997                    2                       3  0.169171     0.947446   \n",
       "1799998                    7                     139  0.046613     0.947446   \n",
       "1799999                    5                      80  0.014798     0.947446   \n",
       "\n",
       "          os_freq  channel_freq  \n",
       "1799995  0.047518      0.020742  \n",
       "1799996  0.221243      0.058326  \n",
       "1799997  0.221243      0.025615  \n",
       "1799998  0.038723      0.029306  \n",
       "1799999  0.247792      0.007015  "
      ]
     },
     "execution_count": 115,
     "metadata": {},
     "output_type": "execute_result"
    }
   ],
   "source": [
    "df_ckFraud_exp2.tail()\n",
    "#len(df_ckFraud_exp1)\n",
    "#len(df_ckFraud_exp2)\n",
    "#len(df_ckFraud_exp3)"
   ]
  },
  {
   "cell_type": "code",
   "execution_count": 44,
   "metadata": {},
   "outputs": [],
   "source": [
    "# Experiment 3\n",
    "# current_experiment = df_ckFraud_exp3 \n",
    "# exp_prefix = 'exp3' \n",
    "\n",
    "# Experiment 2\n",
    "# current_experiment = df_ckFraud_exp2\n",
    "# exp_prefix = 'exp2' \n",
    "\n",
    "# Experiment 1\n",
    "current_experiment = df_ckFraud_exp1\n",
    "exp_prefix = 'exp1'\n"
   ]
  },
  {
   "cell_type": "markdown",
   "metadata": {},
   "source": [
    "### Create train, validation and test datasets"
   ]
  },
  {
   "cell_type": "code",
   "execution_count": 45,
   "metadata": {},
   "outputs": [
    {
     "name": "stdout",
     "output_type": "stream",
     "text": [
      "Click-Fraud/train/exp1/train_ckFraud.csv\n"
     ]
    }
   ],
   "source": [
    "print(s3_train_prefix + '/' + exp_prefix + '/train_ckFraud.csv')"
   ]
  },
  {
   "cell_type": "markdown",
   "metadata": {},
   "source": [
    "Create test dataset - last 5% of clicks from Thursday. The same test dataset is used across all the three experiments"
   ]
  },
  {
   "cell_type": "code",
   "execution_count": 19,
   "metadata": {},
   "outputs": [],
   "source": [
    "# Create test dataset\n",
    "# Sort by hour, minute and second --> pick the last 5% (120,000 records)\n",
    "test_data = df_ckFraud_exp3.sort_values(['day', 'hour', 'minute', 'second'], ascending=False).head(n=120000)\n",
    "# Rearrange test data so that is_downloaded is the first column\n",
    "test_data = pd.concat([test_data['is_downloaded'], test_data.drop(['is_downloaded'], axis=1)], axis=1) \n",
    "\n",
    "\n",
    "# Create new dataset for experiment 3 (this excludes data from test dataset)\n",
    "df_ckFraud_fil_exp3 = df_ckFraud_exp3.sort_values(['day', 'hour', 'minute', 'second'], ascending=True).head(n=2280000)"
   ]
  },
  {
   "cell_type": "markdown",
   "metadata": {},
   "source": [
    "#### Only for experiment # 3\n",
    "Since df_ckFraud_fil_exp3 has changed"
   ]
  },
  {
   "cell_type": "code",
   "execution_count": 47,
   "metadata": {},
   "outputs": [],
   "source": [
    "if exp_prefix=='exp3':\n",
    "    current_experiment = df_ckFraud_fil_exp3"
   ]
  },
  {
   "cell_type": "code",
   "execution_count": 48,
   "metadata": {},
   "outputs": [],
   "source": [
    "# Create dataset in a format required by XGBoost\n",
    "current_experiment = pd.concat([current_experiment['is_downloaded'], current_experiment.drop(['is_downloaded'], axis=1)], axis=1) "
   ]
  },
  {
   "cell_type": "code",
   "execution_count": 32,
   "metadata": {},
   "outputs": [
    {
     "data": {
      "text/html": [
       "<div>\n",
       "<style scoped>\n",
       "    .dataframe tbody tr th:only-of-type {\n",
       "        vertical-align: middle;\n",
       "    }\n",
       "\n",
       "    .dataframe tbody tr th {\n",
       "        vertical-align: top;\n",
       "    }\n",
       "\n",
       "    .dataframe thead th {\n",
       "        text-align: right;\n",
       "    }\n",
       "</style>\n",
       "<table border=\"1\" class=\"dataframe\">\n",
       "  <thead>\n",
       "    <tr style=\"text-align: right;\">\n",
       "      <th></th>\n",
       "      <th>is_downloaded</th>\n",
       "      <th>app</th>\n",
       "      <th>device</th>\n",
       "      <th>os</th>\n",
       "      <th>channel</th>\n",
       "      <th>day</th>\n",
       "      <th>hour</th>\n",
       "      <th>minute</th>\n",
       "      <th>second</th>\n",
       "      <th>clicks_by_ip_day_hr</th>\n",
       "      <th>clicks_by_ip_hr_chnl</th>\n",
       "      <th>clicks_by_ip_hr_os</th>\n",
       "      <th>clicks_by_ip_hr_app</th>\n",
       "      <th>clicks_by_ip_hr_device</th>\n",
       "      <th>app_freq</th>\n",
       "      <th>device_freq</th>\n",
       "      <th>os_freq</th>\n",
       "      <th>channel_freq</th>\n",
       "    </tr>\n",
       "  </thead>\n",
       "  <tbody>\n",
       "    <tr>\n",
       "      <th>0</th>\n",
       "      <td>0</td>\n",
       "      <td>3</td>\n",
       "      <td>1</td>\n",
       "      <td>13</td>\n",
       "      <td>114</td>\n",
       "      <td>2</td>\n",
       "      <td>14</td>\n",
       "      <td>32</td>\n",
       "      <td>21</td>\n",
       "      <td>1</td>\n",
       "      <td>1</td>\n",
       "      <td>1</td>\n",
       "      <td>1</td>\n",
       "      <td>1</td>\n",
       "      <td>0.169171</td>\n",
       "      <td>0.947446</td>\n",
       "      <td>0.221243</td>\n",
       "      <td>0.015468</td>\n",
       "    </tr>\n",
       "    <tr>\n",
       "      <th>1</th>\n",
       "      <td>0</td>\n",
       "      <td>3</td>\n",
       "      <td>1</td>\n",
       "      <td>19</td>\n",
       "      <td>114</td>\n",
       "      <td>2</td>\n",
       "      <td>14</td>\n",
       "      <td>33</td>\n",
       "      <td>34</td>\n",
       "      <td>1</td>\n",
       "      <td>1</td>\n",
       "      <td>1</td>\n",
       "      <td>1</td>\n",
       "      <td>1</td>\n",
       "      <td>0.169171</td>\n",
       "      <td>0.947446</td>\n",
       "      <td>0.247792</td>\n",
       "      <td>0.015468</td>\n",
       "    </tr>\n",
       "    <tr>\n",
       "      <th>2</th>\n",
       "      <td>0</td>\n",
       "      <td>3</td>\n",
       "      <td>1</td>\n",
       "      <td>13</td>\n",
       "      <td>114</td>\n",
       "      <td>2</td>\n",
       "      <td>14</td>\n",
       "      <td>34</td>\n",
       "      <td>12</td>\n",
       "      <td>1</td>\n",
       "      <td>1</td>\n",
       "      <td>1</td>\n",
       "      <td>1</td>\n",
       "      <td>1</td>\n",
       "      <td>0.169171</td>\n",
       "      <td>0.947446</td>\n",
       "      <td>0.221243</td>\n",
       "      <td>0.015468</td>\n",
       "    </tr>\n",
       "    <tr>\n",
       "      <th>3</th>\n",
       "      <td>0</td>\n",
       "      <td>14</td>\n",
       "      <td>1</td>\n",
       "      <td>13</td>\n",
       "      <td>155</td>\n",
       "      <td>2</td>\n",
       "      <td>14</td>\n",
       "      <td>34</td>\n",
       "      <td>52</td>\n",
       "      <td>1</td>\n",
       "      <td>1</td>\n",
       "      <td>1</td>\n",
       "      <td>1</td>\n",
       "      <td>1</td>\n",
       "      <td>0.052469</td>\n",
       "      <td>0.947446</td>\n",
       "      <td>0.221243</td>\n",
       "      <td>0.002359</td>\n",
       "    </tr>\n",
       "    <tr>\n",
       "      <th>4</th>\n",
       "      <td>0</td>\n",
       "      <td>3</td>\n",
       "      <td>1</td>\n",
       "      <td>13</td>\n",
       "      <td>114</td>\n",
       "      <td>2</td>\n",
       "      <td>14</td>\n",
       "      <td>35</td>\n",
       "      <td>8</td>\n",
       "      <td>1</td>\n",
       "      <td>1</td>\n",
       "      <td>1</td>\n",
       "      <td>1</td>\n",
       "      <td>1</td>\n",
       "      <td>0.169171</td>\n",
       "      <td>0.947446</td>\n",
       "      <td>0.221243</td>\n",
       "      <td>0.015468</td>\n",
       "    </tr>\n",
       "  </tbody>\n",
       "</table>\n",
       "</div>"
      ],
      "text/plain": [
       "   is_downloaded  app  device  os  channel  day  hour  minute  second  \\\n",
       "0              0    3       1  13      114    2    14      32      21   \n",
       "1              0    3       1  19      114    2    14      33      34   \n",
       "2              0    3       1  13      114    2    14      34      12   \n",
       "3              0   14       1  13      155    2    14      34      52   \n",
       "4              0    3       1  13      114    2    14      35       8   \n",
       "\n",
       "   clicks_by_ip_day_hr  clicks_by_ip_hr_chnl  clicks_by_ip_hr_os  \\\n",
       "0                    1                     1                   1   \n",
       "1                    1                     1                   1   \n",
       "2                    1                     1                   1   \n",
       "3                    1                     1                   1   \n",
       "4                    1                     1                   1   \n",
       "\n",
       "   clicks_by_ip_hr_app  clicks_by_ip_hr_device  app_freq  device_freq  \\\n",
       "0                    1                       1  0.169171     0.947446   \n",
       "1                    1                       1  0.169171     0.947446   \n",
       "2                    1                       1  0.169171     0.947446   \n",
       "3                    1                       1  0.052469     0.947446   \n",
       "4                    1                       1  0.169171     0.947446   \n",
       "\n",
       "    os_freq  channel_freq  \n",
       "0  0.221243      0.015468  \n",
       "1  0.247792      0.015468  \n",
       "2  0.221243      0.015468  \n",
       "3  0.221243      0.002359  \n",
       "4  0.221243      0.015468  "
      ]
     },
     "execution_count": 32,
     "metadata": {},
     "output_type": "execute_result"
    }
   ],
   "source": [
    "current_experiment.head()"
   ]
  },
  {
   "cell_type": "code",
   "execution_count": 49,
   "metadata": {},
   "outputs": [
    {
     "data": {
      "text/plain": [
       "3"
      ]
     },
     "execution_count": 49,
     "metadata": {},
     "output_type": "execute_result"
    }
   ],
   "source": [
    "current_experiment['day'].max()"
   ]
  },
  {
   "cell_type": "code",
   "execution_count": 50,
   "metadata": {
    "scrolled": true
   },
   "outputs": [],
   "source": [
    "# Create train (80%), validation (20%) datasets\n",
    "\n",
    "train_data, validation_data = np.split(current_experiment.sample(frac=1, random_state=4567), [int(0.8 * len(current_experiment))])\n",
    "\n",
    "# Save training and validation csv to local sagemaker instance\n",
    "train_data.to_csv(sm_train_loc + 'train_ckFraud.csv', header=False, index=False)\n",
    "validation_data.to_csv(sm_val_loc + 'val_ckFraud.csv', header=False, index=False)\n",
    "\n",
    "# Upload csv to S3 bucket\n",
    "upload_to_s3(s3_bucket, s3_train_prefix + '/' + exp_prefix + '/train_ckFraud.csv', sm_train_loc + 'train_ckFraud.csv')\n",
    "upload_to_s3(s3_bucket, s3_val_prefix + '/' + exp_prefix + '/val_ckFraud.csv', sm_val_loc + 'val_ckFraud.csv')"
   ]
  },
  {
   "cell_type": "code",
   "execution_count": null,
   "metadata": {},
   "outputs": [],
   "source": [
    "#df_ckFraud_fil_exp3.groupby('day').count()"
   ]
  },
  {
   "cell_type": "code",
   "execution_count": 51,
   "metadata": {},
   "outputs": [],
   "source": [
    "s3_input_train = sagemaker.s3_input(s3_data='s3://{}/{}/train/{}/{}'.format(s3_bucket, s3_prefix, exp_prefix, 'train_ckFraud.csv'), content_type='csv')\n",
    "s3_input_validation = sagemaker.s3_input(s3_data='s3://{}/{}/val/{}/{}'.format(s3_bucket, s3_prefix, exp_prefix, 'val_ckFraud.csv'), content_type='csv')"
   ]
  },
  {
   "cell_type": "code",
   "execution_count": 52,
   "metadata": {},
   "outputs": [
    {
     "name": "stdout",
     "output_type": "stream",
     "text": [
      "s3://ai-in-aws/Click-Fraud/val/exp1/val_ckFraud.csv\n"
     ]
    }
   ],
   "source": [
    "print('s3://{}/{}/val/{}/{}'.format(s3_bucket, s3_prefix, exp_prefix, 'val_ckFraud.csv'))"
   ]
  },
  {
   "cell_type": "markdown",
   "metadata": {},
   "source": [
    "Get XGBoost SageMaker Training Image"
   ]
  },
  {
   "cell_type": "code",
   "execution_count": 6,
   "metadata": {},
   "outputs": [],
   "source": [
    "sess = sagemaker.Session()\n",
    "role = get_execution_role()\n",
    "\n",
    "#Get docker image for the XGBoost algorithm\n",
    "container = get_image_uri(boto3.Session().region_name, 'xgboost') #input: region name, name of the algorithm"
   ]
  },
  {
   "cell_type": "markdown",
   "metadata": {},
   "source": [
    "### Training"
   ]
  },
  {
   "cell_type": "code",
   "execution_count": 54,
   "metadata": {},
   "outputs": [],
   "source": [
    "# Unbalanced data\n",
    "num_positives = current_experiment.groupby('is_downloaded').size()[1]\n",
    "num_negatives = current_experiment.groupby('is_downloaded').size()[0]\n",
    "\n",
    "scale_pos_weight = 100 - (num_positives / (num_positives + num_negatives)) * 100 # **number of positive samples** / **total samples** "
   ]
  },
  {
   "cell_type": "code",
   "execution_count": 55,
   "metadata": {},
   "outputs": [
    {
     "data": {
      "text/plain": [
       "99.81941666666667"
      ]
     },
     "execution_count": 55,
     "metadata": {},
     "output_type": "execute_result"
    }
   ],
   "source": [
    "scale_pos_weight "
   ]
  },
  {
   "cell_type": "code",
   "execution_count": 56,
   "metadata": {},
   "outputs": [
    {
     "name": "stdout",
     "output_type": "stream",
     "text": [
      "2019-06-22 12:50:23 Starting - Starting the training job...\n",
      "2019-06-22 12:50:25 Starting - Launching requested ML instances......\n",
      "2019-06-22 12:51:25 Starting - Preparing the instances for training...\n",
      "2019-06-22 12:52:23 Downloading - Downloading input data...\n",
      "2019-06-22 12:52:47 Training - Downloading the training image.\n",
      "\u001b[31mArguments: train\u001b[0m\n",
      "\u001b[31m[2019-06-22:12:52:57:INFO] Running standalone xgboost training.\u001b[0m\n",
      "\u001b[31m[2019-06-22:12:52:57:INFO] File size need to be processed in the node: 105.0mb. Available memory size in the node: 8411.18mb\u001b[0m\n",
      "\u001b[31m[2019-06-22:12:52:57:INFO] Determined delimiter of CSV input is ','\u001b[0m\n",
      "\u001b[31m[12:52:57] S3DistributionType set as FullyReplicated\u001b[0m\n",
      "\u001b[31m[12:52:57] 960000x17 matrix with 16320000 entries loaded from /opt/ml/input/data/train?format=csv&label_column=0&delimiter=,\u001b[0m\n",
      "\u001b[31m[2019-06-22:12:52:57:INFO] Determined delimiter of CSV input is ','\u001b[0m\n",
      "\u001b[31m[12:52:57] S3DistributionType set as FullyReplicated\u001b[0m\n",
      "\u001b[31m[12:52:58] 240000x17 matrix with 4080000 entries loaded from /opt/ml/input/data/validation?format=csv&label_column=0&delimiter=,\u001b[0m\n",
      "\u001b[31m[12:52:59] src/tree/updater_prune.cc:74: tree pruning end, 1 roots, 30 extra nodes, 0 pruned nodes, max_depth=4\u001b[0m\n",
      "\u001b[31m[0]#011train-error:0.011476#011validation-error:0.011496\u001b[0m\n",
      "\u001b[31m[12:52:59] src/tree/updater_prune.cc:74: tree pruning end, 1 roots, 30 extra nodes, 0 pruned nodes, max_depth=4\u001b[0m\n",
      "\u001b[31m[1]#011train-error:0.012151#011validation-error:0.012238\u001b[0m\n",
      "\u001b[31m[12:52:59] src/tree/updater_prune.cc:74: tree pruning end, 1 roots, 30 extra nodes, 0 pruned nodes, max_depth=4\u001b[0m\n",
      "\u001b[31m[2]#011train-error:0.011407#011validation-error:0.011533\u001b[0m\n",
      "\u001b[31m[12:53:00] src/tree/updater_prune.cc:74: tree pruning end, 1 roots, 30 extra nodes, 0 pruned nodes, max_depth=4\u001b[0m\n",
      "\u001b[31m[3]#011train-error:0.010303#011validation-error:0.010296\u001b[0m\n",
      "\u001b[31m[12:53:00] src/tree/updater_prune.cc:74: tree pruning end, 1 roots, 30 extra nodes, 0 pruned nodes, max_depth=4\u001b[0m\n",
      "\u001b[31m[4]#011train-error:0.007824#011validation-error:0.007896\u001b[0m\n",
      "\u001b[31m[12:53:01] src/tree/updater_prune.cc:74: tree pruning end, 1 roots, 30 extra nodes, 0 pruned nodes, max_depth=4\u001b[0m\n",
      "\u001b[31m[5]#011train-error:0.007196#011validation-error:0.007254\u001b[0m\n",
      "\u001b[31m[12:53:01] src/tree/updater_prune.cc:74: tree pruning end, 1 roots, 30 extra nodes, 0 pruned nodes, max_depth=4\u001b[0m\n",
      "\u001b[31m[6]#011train-error:0.007455#011validation-error:0.007513\u001b[0m\n",
      "\u001b[31m[12:53:01] src/tree/updater_prune.cc:74: tree pruning end, 1 roots, 30 extra nodes, 0 pruned nodes, max_depth=4\u001b[0m\n",
      "\u001b[31m[7]#011train-error:0.007029#011validation-error:0.007071\u001b[0m\n",
      "\u001b[31m[12:53:02] src/tree/updater_prune.cc:74: tree pruning end, 1 roots, 28 extra nodes, 0 pruned nodes, max_depth=4\u001b[0m\n",
      "\u001b[31m[8]#011train-error:0.006907#011validation-error:0.006929\u001b[0m\n",
      "\u001b[31m[12:53:02] src/tree/updater_prune.cc:74: tree pruning end, 1 roots, 30 extra nodes, 0 pruned nodes, max_depth=4\u001b[0m\n",
      "\u001b[31m[9]#011train-error:0.007018#011validation-error:0.007054\u001b[0m\n",
      "\u001b[31m[12:53:02] src/tree/updater_prune.cc:74: tree pruning end, 1 roots, 30 extra nodes, 0 pruned nodes, max_depth=4\u001b[0m\n",
      "\u001b[31m[10]#011train-error:0.007546#011validation-error:0.007675\u001b[0m\n",
      "\u001b[31m[12:53:03] src/tree/updater_prune.cc:74: tree pruning end, 1 roots, 30 extra nodes, 0 pruned nodes, max_depth=4\u001b[0m\n",
      "\u001b[31m[11]#011train-error:0.007345#011validation-error:0.007458\u001b[0m\n",
      "\u001b[31m[12:53:04] src/tree/updater_prune.cc:74: tree pruning end, 1 roots, 30 extra nodes, 0 pruned nodes, max_depth=4\u001b[0m\n",
      "\u001b[31m[12]#011train-error:0.0078#011validation-error:0.007829\u001b[0m\n",
      "\u001b[31m[12:53:04] src/tree/updater_prune.cc:74: tree pruning end, 1 roots, 30 extra nodes, 0 pruned nodes, max_depth=4\u001b[0m\n",
      "\u001b[31m[13]#011train-error:0.008218#011validation-error:0.008271\u001b[0m\n",
      "\u001b[31m[12:53:04] src/tree/updater_prune.cc:74: tree pruning end, 1 roots, 30 extra nodes, 0 pruned nodes, max_depth=4\u001b[0m\n",
      "\u001b[31m[14]#011train-error:0.008402#011validation-error:0.008346\u001b[0m\n",
      "\u001b[31m[12:53:05] src/tree/updater_prune.cc:74: tree pruning end, 1 roots, 26 extra nodes, 0 pruned nodes, max_depth=4\u001b[0m\n",
      "\u001b[31m[15]#011train-error:0.008719#011validation-error:0.008679\u001b[0m\n",
      "\u001b[31m[12:53:05] src/tree/updater_prune.cc:74: tree pruning end, 1 roots, 30 extra nodes, 0 pruned nodes, max_depth=4\u001b[0m\n",
      "\u001b[31m[16]#011train-error:0.008814#011validation-error:0.008737\u001b[0m\n",
      "\u001b[31m[12:53:05] src/tree/updater_prune.cc:74: tree pruning end, 1 roots, 28 extra nodes, 0 pruned nodes, max_depth=4\u001b[0m\n",
      "\u001b[31m[17]#011train-error:0.009029#011validation-error:0.008967\u001b[0m\n",
      "\u001b[31m[12:53:06] src/tree/updater_prune.cc:74: tree pruning end, 1 roots, 30 extra nodes, 0 pruned nodes, max_depth=4\u001b[0m\n",
      "\u001b[31m[18]#011train-error:0.009309#011validation-error:0.009275\u001b[0m\n",
      "\u001b[31m[12:53:06] src/tree/updater_prune.cc:74: tree pruning end, 1 roots, 30 extra nodes, 0 pruned nodes, max_depth=4\u001b[0m\n",
      "\u001b[31m[19]#011train-error:0.009094#011validation-error:0.009058\u001b[0m\n",
      "\u001b[31m[12:53:07] src/tree/updater_prune.cc:74: tree pruning end, 1 roots, 30 extra nodes, 0 pruned nodes, max_depth=4\u001b[0m\n",
      "\u001b[31m[20]#011train-error:0.009094#011validation-error:0.009004\u001b[0m\n",
      "\u001b[31m[12:53:07] src/tree/updater_prune.cc:74: tree pruning end, 1 roots, 30 extra nodes, 0 pruned nodes, max_depth=4\u001b[0m\n",
      "\u001b[31m[21]#011train-error:0.009126#011validation-error:0.009096\u001b[0m\n",
      "\u001b[31m[12:53:07] src/tree/updater_prune.cc:74: tree pruning end, 1 roots, 24 extra nodes, 0 pruned nodes, max_depth=4\u001b[0m\n",
      "\u001b[31m[22]#011train-error:0.009181#011validation-error:0.009192\u001b[0m\n",
      "\u001b[31m[12:53:08] src/tree/updater_prune.cc:74: tree pruning end, 1 roots, 30 extra nodes, 0 pruned nodes, max_depth=4\u001b[0m\n",
      "\u001b[31m[23]#011train-error:0.009197#011validation-error:0.009217\u001b[0m\n",
      "\u001b[31m[12:53:08] src/tree/updater_prune.cc:74: tree pruning end, 1 roots, 30 extra nodes, 0 pruned nodes, max_depth=4\u001b[0m\n",
      "\u001b[31m[24]#011train-error:0.009165#011validation-error:0.009146\u001b[0m\n",
      "\u001b[31m[12:53:08] src/tree/updater_prune.cc:74: tree pruning end, 1 roots, 24 extra nodes, 0 pruned nodes, max_depth=4\u001b[0m\n",
      "\u001b[31m[25]#011train-error:0.009164#011validation-error:0.009146\u001b[0m\n",
      "\u001b[31m[12:53:09] src/tree/updater_prune.cc:74: tree pruning end, 1 roots, 30 extra nodes, 0 pruned nodes, max_depth=4\u001b[0m\n",
      "\u001b[31m[26]#011train-error:0.009261#011validation-error:0.009196\u001b[0m\n",
      "\u001b[31m[12:53:09] src/tree/updater_prune.cc:74: tree pruning end, 1 roots, 28 extra nodes, 0 pruned nodes, max_depth=4\u001b[0m\n",
      "\u001b[31m[27]#011train-error:0.009285#011validation-error:0.009233\u001b[0m\n",
      "\u001b[31m[12:53:09] src/tree/updater_prune.cc:74: tree pruning end, 1 roots, 28 extra nodes, 0 pruned nodes, max_depth=4\u001b[0m\n",
      "\u001b[31m[28]#011train-error:0.009311#011validation-error:0.009296\u001b[0m\n",
      "\u001b[31m[12:53:10] src/tree/updater_prune.cc:74: tree pruning end, 1 roots, 28 extra nodes, 0 pruned nodes, max_depth=4\u001b[0m\n",
      "\u001b[31m[29]#011train-error:0.009363#011validation-error:0.009304\u001b[0m\n",
      "\u001b[31m[12:53:10] src/tree/updater_prune.cc:74: tree pruning end, 1 roots, 18 extra nodes, 0 pruned nodes, max_depth=4\u001b[0m\n",
      "\u001b[31m[30]#011train-error:0.009325#011validation-error:0.0093\u001b[0m\n",
      "\u001b[31m[12:53:11] src/tree/updater_prune.cc:74: tree pruning end, 1 roots, 30 extra nodes, 0 pruned nodes, max_depth=4\u001b[0m\n",
      "\u001b[31m[31]#011train-error:0.00929#011validation-error:0.009225\u001b[0m\n",
      "\n",
      "2019-06-22 12:52:56 Training - Training image download completed. Training in progress.\u001b[31m[12:53:11] src/tree/updater_prune.cc:74: tree pruning end, 1 roots, 30 extra nodes, 0 pruned nodes, max_depth=4\u001b[0m\n",
      "\u001b[31m[32]#011train-error:0.009313#011validation-error:0.009342\u001b[0m\n",
      "\u001b[31m[12:53:11] src/tree/updater_prune.cc:74: tree pruning end, 1 roots, 30 extra nodes, 0 pruned nodes, max_depth=4\u001b[0m\n",
      "\u001b[31m[33]#011train-error:0.00929#011validation-error:0.009283\u001b[0m\n",
      "\u001b[31m[12:53:12] src/tree/updater_prune.cc:74: tree pruning end, 1 roots, 30 extra nodes, 0 pruned nodes, max_depth=4\u001b[0m\n",
      "\u001b[31m[34]#011train-error:0.009345#011validation-error:0.009279\u001b[0m\n",
      "\u001b[31m[12:53:12] src/tree/updater_prune.cc:74: tree pruning end, 1 roots, 30 extra nodes, 0 pruned nodes, max_depth=4\u001b[0m\n",
      "\u001b[31m[35]#011train-error:0.009387#011validation-error:0.009325\u001b[0m\n",
      "\u001b[31m[12:53:12] src/tree/updater_prune.cc:74: tree pruning end, 1 roots, 28 extra nodes, 0 pruned nodes, max_depth=4\u001b[0m\n",
      "\u001b[31m[36]#011train-error:0.009409#011validation-error:0.009425\u001b[0m\n",
      "\u001b[31m[12:53:13] src/tree/updater_prune.cc:74: tree pruning end, 1 roots, 30 extra nodes, 0 pruned nodes, max_depth=4\u001b[0m\n",
      "\u001b[31m[37]#011train-error:0.009323#011validation-error:0.009358\u001b[0m\n",
      "\u001b[31m[12:53:13] src/tree/updater_prune.cc:74: tree pruning end, 1 roots, 30 extra nodes, 0 pruned nodes, max_depth=4\u001b[0m\n",
      "\u001b[31m[38]#011train-error:0.009539#011validation-error:0.009546\u001b[0m\n",
      "\u001b[31m[12:53:14] src/tree/updater_prune.cc:74: tree pruning end, 1 roots, 30 extra nodes, 0 pruned nodes, max_depth=4\u001b[0m\n",
      "\u001b[31m[39]#011train-error:0.009549#011validation-error:0.009679\u001b[0m\n",
      "\u001b[31m[12:53:14] src/tree/updater_prune.cc:74: tree pruning end, 1 roots, 30 extra nodes, 0 pruned nodes, max_depth=4\u001b[0m\n",
      "\u001b[31m[40]#011train-error:0.009518#011validation-error:0.009658\u001b[0m\n",
      "\u001b[31m[12:53:14] src/tree/updater_prune.cc:74: tree pruning end, 1 roots, 30 extra nodes, 0 pruned nodes, max_depth=4\u001b[0m\n",
      "\u001b[31m[41]#011train-error:0.009398#011validation-error:0.009529\u001b[0m\n",
      "\u001b[31m[12:53:15] src/tree/updater_prune.cc:74: tree pruning end, 1 roots, 30 extra nodes, 0 pruned nodes, max_depth=4\u001b[0m\n",
      "\u001b[31m[42]#011train-error:0.009469#011validation-error:0.009504\u001b[0m\n",
      "\u001b[31m[12:53:15] src/tree/updater_prune.cc:74: tree pruning end, 1 roots, 28 extra nodes, 0 pruned nodes, max_depth=4\u001b[0m\n",
      "\u001b[31m[43]#011train-error:0.009461#011validation-error:0.009488\u001b[0m\n",
      "\u001b[31m[12:53:15] src/tree/updater_prune.cc:74: tree pruning end, 1 roots, 30 extra nodes, 0 pruned nodes, max_depth=4\u001b[0m\n",
      "\u001b[31m[44]#011train-error:0.009408#011validation-error:0.0094\u001b[0m\n",
      "\u001b[31m[12:53:16] src/tree/updater_prune.cc:74: tree pruning end, 1 roots, 30 extra nodes, 0 pruned nodes, max_depth=4\u001b[0m\n",
      "\u001b[31m[45]#011train-error:0.009297#011validation-error:0.009221\u001b[0m\n",
      "\u001b[31m[12:53:16] src/tree/updater_prune.cc:74: tree pruning end, 1 roots, 30 extra nodes, 0 pruned nodes, max_depth=4\u001b[0m\n",
      "\u001b[31m[46]#011train-error:0.009247#011validation-error:0.009208\u001b[0m\n",
      "\u001b[31m[12:53:17] src/tree/updater_prune.cc:74: tree pruning end, 1 roots, 30 extra nodes, 0 pruned nodes, max_depth=4\u001b[0m\n",
      "\u001b[31m[47]#011train-error:0.009258#011validation-error:0.009254\u001b[0m\n",
      "\u001b[31m[12:53:17] src/tree/updater_prune.cc:74: tree pruning end, 1 roots, 30 extra nodes, 0 pruned nodes, max_depth=4\u001b[0m\n",
      "\u001b[31m[48]#011train-error:0.009027#011validation-error:0.009004\u001b[0m\n",
      "\u001b[31m[12:53:17] src/tree/updater_prune.cc:74: tree pruning end, 1 roots, 30 extra nodes, 0 pruned nodes, max_depth=4\u001b[0m\n",
      "\u001b[31m[49]#011train-error:0.008977#011validation-error:0.008938\u001b[0m\n",
      "\u001b[31m[12:53:18] src/tree/updater_prune.cc:74: tree pruning end, 1 roots, 28 extra nodes, 0 pruned nodes, max_depth=4\u001b[0m\n",
      "\u001b[31m[50]#011train-error:0.009012#011validation-error:0.008979\u001b[0m\n",
      "\u001b[31m[12:53:18] src/tree/updater_prune.cc:74: tree pruning end, 1 roots, 30 extra nodes, 0 pruned nodes, max_depth=4\u001b[0m\n",
      "\u001b[31m[51]#011train-error:0.009086#011validation-error:0.009071\u001b[0m\n",
      "\u001b[31m[12:53:19] src/tree/updater_prune.cc:74: tree pruning end, 1 roots, 28 extra nodes, 0 pruned nodes, max_depth=4\u001b[0m\n",
      "\u001b[31m[52]#011train-error:0.009161#011validation-error:0.009213\u001b[0m\n",
      "\u001b[31m[12:53:19] src/tree/updater_prune.cc:74: tree pruning end, 1 roots, 28 extra nodes, 0 pruned nodes, max_depth=4\u001b[0m\n",
      "\u001b[31m[53]#011train-error:0.009162#011validation-error:0.009275\u001b[0m\n",
      "\u001b[31m[12:53:19] src/tree/updater_prune.cc:74: tree pruning end, 1 roots, 26 extra nodes, 0 pruned nodes, max_depth=4\u001b[0m\n",
      "\u001b[31m[54]#011train-error:0.009035#011validation-error:0.009121\u001b[0m\n",
      "\u001b[31m[12:53:20] src/tree/updater_prune.cc:74: tree pruning end, 1 roots, 30 extra nodes, 0 pruned nodes, max_depth=4\u001b[0m\n",
      "\u001b[31m[55]#011train-error:0.009102#011validation-error:0.0092\u001b[0m\n",
      "\u001b[31m[12:53:20] src/tree/updater_prune.cc:74: tree pruning end, 1 roots, 30 extra nodes, 0 pruned nodes, max_depth=4\u001b[0m\n",
      "\u001b[31m[56]#011train-error:0.009096#011validation-error:0.009213\u001b[0m\n",
      "\u001b[31m[12:53:20] src/tree/updater_prune.cc:74: tree pruning end, 1 roots, 30 extra nodes, 0 pruned nodes, max_depth=4\u001b[0m\n",
      "\u001b[31m[57]#011train-error:0.009103#011validation-error:0.009179\u001b[0m\n",
      "\u001b[31m[12:53:21] src/tree/updater_prune.cc:74: tree pruning end, 1 roots, 30 extra nodes, 0 pruned nodes, max_depth=4\u001b[0m\n",
      "\u001b[31m[58]#011train-error:0.009058#011validation-error:0.009171\u001b[0m\n"
     ]
    },
    {
     "name": "stdout",
     "output_type": "stream",
     "text": [
      "\u001b[31m[12:53:21] src/tree/updater_prune.cc:74: tree pruning end, 1 roots, 24 extra nodes, 0 pruned nodes, max_depth=4\u001b[0m\n",
      "\u001b[31m[59]#011train-error:0.009057#011validation-error:0.009183\u001b[0m\n",
      "\u001b[31m[12:53:21] src/tree/updater_prune.cc:74: tree pruning end, 1 roots, 30 extra nodes, 0 pruned nodes, max_depth=4\u001b[0m\n",
      "\u001b[31m[60]#011train-error:0.009093#011validation-error:0.009213\u001b[0m\n",
      "\u001b[31m[12:53:22] src/tree/updater_prune.cc:74: tree pruning end, 1 roots, 30 extra nodes, 0 pruned nodes, max_depth=4\u001b[0m\n",
      "\u001b[31m[61]#011train-error:0.009097#011validation-error:0.009179\u001b[0m\n",
      "\u001b[31m[12:53:22] src/tree/updater_prune.cc:74: tree pruning end, 1 roots, 28 extra nodes, 0 pruned nodes, max_depth=4\u001b[0m\n",
      "\u001b[31m[62]#011train-error:0.009127#011validation-error:0.009167\u001b[0m\n",
      "\u001b[31m[12:53:23] src/tree/updater_prune.cc:74: tree pruning end, 1 roots, 30 extra nodes, 0 pruned nodes, max_depth=4\u001b[0m\n",
      "\u001b[31m[63]#011train-error:0.009134#011validation-error:0.009183\u001b[0m\n",
      "\u001b[31m[12:53:23] src/tree/updater_prune.cc:74: tree pruning end, 1 roots, 30 extra nodes, 0 pruned nodes, max_depth=4\u001b[0m\n",
      "\u001b[31m[64]#011train-error:0.009079#011validation-error:0.009133\u001b[0m\n",
      "\u001b[31m[12:53:23] src/tree/updater_prune.cc:74: tree pruning end, 1 roots, 30 extra nodes, 0 pruned nodes, max_depth=4\u001b[0m\n",
      "\u001b[31m[65]#011train-error:0.009205#011validation-error:0.009321\u001b[0m\n",
      "\u001b[31m[12:53:24] src/tree/updater_prune.cc:74: tree pruning end, 1 roots, 28 extra nodes, 0 pruned nodes, max_depth=4\u001b[0m\n",
      "\u001b[31m[66]#011train-error:0.009224#011validation-error:0.009321\u001b[0m\n",
      "\u001b[31m[12:53:24] src/tree/updater_prune.cc:74: tree pruning end, 1 roots, 30 extra nodes, 0 pruned nodes, max_depth=4\u001b[0m\n",
      "\u001b[31m[67]#011train-error:0.009245#011validation-error:0.009379\u001b[0m\n",
      "\u001b[31m[12:53:25] src/tree/updater_prune.cc:74: tree pruning end, 1 roots, 30 extra nodes, 0 pruned nodes, max_depth=4\u001b[0m\n",
      "\u001b[31m[68]#011train-error:0.00919#011validation-error:0.00935\u001b[0m\n",
      "\u001b[31m[12:53:25] src/tree/updater_prune.cc:74: tree pruning end, 1 roots, 30 extra nodes, 0 pruned nodes, max_depth=4\u001b[0m\n",
      "\u001b[31m[69]#011train-error:0.009225#011validation-error:0.00935\u001b[0m\n",
      "\u001b[31m[12:53:25] src/tree/updater_prune.cc:74: tree pruning end, 1 roots, 28 extra nodes, 0 pruned nodes, max_depth=4\u001b[0m\n",
      "\u001b[31m[70]#011train-error:0.009186#011validation-error:0.009321\u001b[0m\n",
      "\u001b[31m[12:53:26] src/tree/updater_prune.cc:74: tree pruning end, 1 roots, 30 extra nodes, 0 pruned nodes, max_depth=4\u001b[0m\n",
      "\u001b[31m[71]#011train-error:0.009112#011validation-error:0.009254\u001b[0m\n",
      "\u001b[31m[12:53:26] src/tree/updater_prune.cc:74: tree pruning end, 1 roots, 30 extra nodes, 0 pruned nodes, max_depth=4\u001b[0m\n",
      "\u001b[31m[72]#011train-error:0.009135#011validation-error:0.009208\u001b[0m\n",
      "\u001b[31m[12:53:26] src/tree/updater_prune.cc:74: tree pruning end, 1 roots, 30 extra nodes, 0 pruned nodes, max_depth=4\u001b[0m\n",
      "\u001b[31m[73]#011train-error:0.009171#011validation-error:0.009258\u001b[0m\n",
      "\u001b[31m[12:53:27] src/tree/updater_prune.cc:74: tree pruning end, 1 roots, 22 extra nodes, 0 pruned nodes, max_depth=4\u001b[0m\n",
      "\u001b[31m[74]#011train-error:0.009121#011validation-error:0.009175\u001b[0m\n",
      "\u001b[31m[12:53:27] src/tree/updater_prune.cc:74: tree pruning end, 1 roots, 30 extra nodes, 0 pruned nodes, max_depth=4\u001b[0m\n",
      "\u001b[31m[75]#011train-error:0.009112#011validation-error:0.0092\u001b[0m\n",
      "\u001b[31m[12:53:28] src/tree/updater_prune.cc:74: tree pruning end, 1 roots, 30 extra nodes, 0 pruned nodes, max_depth=4\u001b[0m\n",
      "\u001b[31m[76]#011train-error:0.009195#011validation-error:0.009254\u001b[0m\n",
      "\u001b[31m[12:53:28] src/tree/updater_prune.cc:74: tree pruning end, 1 roots, 24 extra nodes, 0 pruned nodes, max_depth=4\u001b[0m\n",
      "\u001b[31m[77]#011train-error:0.009155#011validation-error:0.009187\u001b[0m\n",
      "\u001b[31m[12:53:28] src/tree/updater_prune.cc:74: tree pruning end, 1 roots, 30 extra nodes, 0 pruned nodes, max_depth=4\u001b[0m\n",
      "\u001b[31m[78]#011train-error:0.009144#011validation-error:0.009208\u001b[0m\n",
      "\u001b[31m[12:53:29] src/tree/updater_prune.cc:74: tree pruning end, 1 roots, 24 extra nodes, 0 pruned nodes, max_depth=4\u001b[0m\n",
      "\u001b[31m[79]#011train-error:0.009158#011validation-error:0.009258\u001b[0m\n",
      "\u001b[31m[12:53:29] src/tree/updater_prune.cc:74: tree pruning end, 1 roots, 26 extra nodes, 0 pruned nodes, max_depth=4\u001b[0m\n",
      "\u001b[31m[80]#011train-error:0.00908#011validation-error:0.0092\u001b[0m\n",
      "\u001b[31m[12:53:29] src/tree/updater_prune.cc:74: tree pruning end, 1 roots, 30 extra nodes, 0 pruned nodes, max_depth=4\u001b[0m\n",
      "\u001b[31m[81]#011train-error:0.009122#011validation-error:0.009192\u001b[0m\n",
      "\u001b[31m[12:53:30] src/tree/updater_prune.cc:74: tree pruning end, 1 roots, 30 extra nodes, 0 pruned nodes, max_depth=4\u001b[0m\n",
      "\u001b[31m[82]#011train-error:0.009062#011validation-error:0.009125\u001b[0m\n",
      "\u001b[31m[12:53:30] src/tree/updater_prune.cc:74: tree pruning end, 1 roots, 28 extra nodes, 0 pruned nodes, max_depth=4\u001b[0m\n",
      "\u001b[31m[83]#011train-error:0.008977#011validation-error:0.009058\u001b[0m\n",
      "\u001b[31m[12:53:30] src/tree/updater_prune.cc:74: tree pruning end, 1 roots, 28 extra nodes, 0 pruned nodes, max_depth=4\u001b[0m\n",
      "\u001b[31m[84]#011train-error:0.008996#011validation-error:0.009083\u001b[0m\n",
      "\u001b[31m[12:53:31] src/tree/updater_prune.cc:74: tree pruning end, 1 roots, 30 extra nodes, 0 pruned nodes, max_depth=4\u001b[0m\n",
      "\u001b[31m[85]#011train-error:0.008999#011validation-error:0.009021\u001b[0m\n",
      "\u001b[31m[12:53:31] src/tree/updater_prune.cc:74: tree pruning end, 1 roots, 30 extra nodes, 0 pruned nodes, max_depth=4\u001b[0m\n",
      "\u001b[31m[86]#011train-error:0.009001#011validation-error:0.009029\u001b[0m\n",
      "\u001b[31m[12:53:32] src/tree/updater_prune.cc:74: tree pruning end, 1 roots, 30 extra nodes, 0 pruned nodes, max_depth=4\u001b[0m\n",
      "\u001b[31m[87]#011train-error:0.00907#011validation-error:0.009112\u001b[0m\n",
      "\u001b[31m[12:53:32] src/tree/updater_prune.cc:74: tree pruning end, 1 roots, 24 extra nodes, 0 pruned nodes, max_depth=4\u001b[0m\n",
      "\u001b[31m[88]#011train-error:0.009047#011validation-error:0.009088\u001b[0m\n",
      "\u001b[31m[12:53:32] src/tree/updater_prune.cc:74: tree pruning end, 1 roots, 24 extra nodes, 0 pruned nodes, max_depth=4\u001b[0m\n",
      "\u001b[31m[89]#011train-error:0.00903#011validation-error:0.009088\u001b[0m\n",
      "\u001b[31m[12:53:33] src/tree/updater_prune.cc:74: tree pruning end, 1 roots, 30 extra nodes, 0 pruned nodes, max_depth=4\u001b[0m\n",
      "\u001b[31m[90]#011train-error:0.008921#011validation-error:0.009017\u001b[0m\n",
      "\u001b[31m[12:53:33] src/tree/updater_prune.cc:74: tree pruning end, 1 roots, 28 extra nodes, 0 pruned nodes, max_depth=4\u001b[0m\n",
      "\u001b[31m[91]#011train-error:0.008839#011validation-error:0.008938\u001b[0m\n",
      "\u001b[31m[12:53:33] src/tree/updater_prune.cc:74: tree pruning end, 1 roots, 28 extra nodes, 0 pruned nodes, max_depth=4\u001b[0m\n",
      "\u001b[31m[92]#011train-error:0.008852#011validation-error:0.008975\u001b[0m\n",
      "\u001b[31m[12:53:34] src/tree/updater_prune.cc:74: tree pruning end, 1 roots, 30 extra nodes, 0 pruned nodes, max_depth=4\u001b[0m\n",
      "\u001b[31m[93]#011train-error:0.008796#011validation-error:0.008975\u001b[0m\n",
      "\u001b[31m[12:53:34] src/tree/updater_prune.cc:74: tree pruning end, 1 roots, 26 extra nodes, 0 pruned nodes, max_depth=4\u001b[0m\n",
      "\u001b[31m[94]#011train-error:0.008704#011validation-error:0.008933\u001b[0m\n",
      "\u001b[31m[12:53:35] src/tree/updater_prune.cc:74: tree pruning end, 1 roots, 28 extra nodes, 0 pruned nodes, max_depth=4\u001b[0m\n",
      "\u001b[31m[95]#011train-error:0.008732#011validation-error:0.008967\u001b[0m\n",
      "\u001b[31m[12:53:35] src/tree/updater_prune.cc:74: tree pruning end, 1 roots, 24 extra nodes, 0 pruned nodes, max_depth=4\u001b[0m\n",
      "\u001b[31m[96]#011train-error:0.008779#011validation-error:0.008975\u001b[0m\n",
      "\u001b[31m[12:53:35] src/tree/updater_prune.cc:74: tree pruning end, 1 roots, 22 extra nodes, 0 pruned nodes, max_depth=4\u001b[0m\n",
      "\u001b[31m[97]#011train-error:0.008832#011validation-error:0.009021\u001b[0m\n",
      "\u001b[31m[12:53:36] src/tree/updater_prune.cc:74: tree pruning end, 1 roots, 24 extra nodes, 0 pruned nodes, max_depth=4\u001b[0m\n",
      "\u001b[31m[98]#011train-error:0.00882#011validation-error:0.008962\u001b[0m\n",
      "\u001b[31m[12:53:36] src/tree/updater_prune.cc:74: tree pruning end, 1 roots, 30 extra nodes, 0 pruned nodes, max_depth=4\u001b[0m\n",
      "\u001b[31m[99]#011train-error:0.00873#011validation-error:0.008917\u001b[0m\n",
      "\n",
      "2019-06-22 12:53:44 Uploading - Uploading generated training model\n",
      "2019-06-22 12:53:44 Completed - Training job completed\n",
      "Billable seconds: 81\n"
     ]
    }
   ],
   "source": [
    "xgb = sagemaker.estimator.Estimator(container,\n",
    "                                    role, \n",
    "                                    train_instance_count=1, \n",
    "                                    train_instance_type='ml.m4.xlarge',\n",
    "                                    output_path='s3://{}/{}/output/{}'.format(s3_bucket, s3_prefix, exp_prefix),\n",
    "                                    sagemaker_session=sess)\n",
    "\n",
    "xgb.set_hyperparameters(max_depth=4,\n",
    "                        eta=0.3,\n",
    "                        gamma=0,\n",
    "                        min_child_weight=6,   #Minimum sum of instance weight (hessian) needed in a child. If the tree partition step results in a leaf node with the sum of instance weight less than min_child_weight, the building process gives up further partitioning\n",
    "                        colsample_bylevel = 0.8,\n",
    "                        colsample_bytree = 0.8,\n",
    "                        subsample=0.8,\n",
    "                        silent=0,\n",
    "                        scale_pos_weight=scale_pos_weight,\n",
    "                        objective='binary:logistic',\n",
    "                        num_round=100)\n",
    "\n",
    "xgb.fit({'train': s3_input_train, 'validation': s3_input_validation})"
   ]
  },
  {
   "cell_type": "markdown",
   "metadata": {},
   "source": [
    "### Plot Feature Importance"
   ]
  },
  {
   "cell_type": "markdown",
   "metadata": {},
   "source": [
    "#### Download the trained model\n",
    "\n",
    "Download and unpack the trained model for each of the experiments"
   ]
  },
  {
   "cell_type": "code",
   "execution_count": 69,
   "metadata": {},
   "outputs": [],
   "source": [
    "# For experiment 1, \n",
    "exp_prefix = 'exp1'\n",
    "\n",
    "# For experiment 2, \n",
    "# exp_prefix = 'exp2'\n",
    "\n",
    "# For experiment 3, \n",
    "# exp_prefix = 'exp3'"
   ]
  },
  {
   "cell_type": "code",
   "execution_count": 60,
   "metadata": {},
   "outputs": [],
   "source": [
    "# Download the trained model from S3 bucket\n",
    "s3_output_prefix = 'output'\n",
    "\n",
    "s3_output_fn = 'model.tar.gz'\n",
    "sm_output_loc = 'click_fraud/output/' \n",
    "\n",
    "#dwnld_op_fn = sm_output_loc + s3_output_fn\n",
    "\n",
    "#Download model from s3 bucket\n",
    "data_loc='s3://{}/{}/{}/{}'.format(s3_bucket, s3_prefix, s3_output_prefix, exp_prefix)\n",
    "\n",
    "!aws s3 cp $data_loc $sm_output_loc$exp_prefix --exclude \"*\" --include \"*.tar.gz\" --recursive"
   ]
  },
  {
   "cell_type": "markdown",
   "metadata": {},
   "source": [
    "#### Unpack trained models"
   ]
  },
  {
   "cell_type": "code",
   "execution_count": 72,
   "metadata": {},
   "outputs": [],
   "source": [
    "# Move model to the appropriate directory\n",
    "!mv $sm_output_loc$exp_prefix/xgboost*/$s3_output_prefix/$s3_output_fn $sm_output_loc$exp_prefix\n",
    "# Remove nested folders\n",
    "!rm -r $sm_output_loc$exp_prefix/xgboost*"
   ]
  },
  {
   "cell_type": "code",
   "execution_count": 73,
   "metadata": {},
   "outputs": [
    {
     "name": "stdout",
     "output_type": "stream",
     "text": [
      "delete: s3://ai-in-aws/Click-Fraud/output/exp1/xgboost-2019-06-22-12-50-23-431/output/model.tar.gz\n",
      "delete: s3://ai-in-aws/Click-Fraud/output/exp1/model.tar.gz\n",
      "upload: click_fraud/output/exp1/model.tar.gz to s3://ai-in-aws/Click-Fraud/output/exp1/model.tar.gz\n"
     ]
    }
   ],
   "source": [
    "# Upload to s3 bucket, simplifying the directory structure\n",
    "# Clean up the directory structure on s3 bucket\n",
    "!aws s3 rm $data_loc/ --recursive\n",
    "!aws s3 cp $sm_output_loc$exp_prefix/$s3_output_fn $data_loc/$s3_output_fn "
   ]
  },
  {
   "cell_type": "code",
   "execution_count": 61,
   "metadata": {},
   "outputs": [
    {
     "name": "stdout",
     "output_type": "stream",
     "text": [
      "exp1\n"
     ]
    },
    {
     "data": {
      "image/png": "[encoded data removed]",
      "text/plain": [
       "<Figure size 432x432 with 1 Axes>"
      ]
     },
     "metadata": {},
     "output_type": "display_data"
    },
    {
     "name": "stdout",
     "output_type": "stream",
     "text": [
      "exp2\n"
     ]
    },
    {
     "data": {
      "image/png": "[encoded data removed]",
      "text/plain": [
       "<Figure size 432x432 with 1 Axes>"
      ]
     },
     "metadata": {},
     "output_type": "display_data"
    },
    {
     "name": "stdout",
     "output_type": "stream",
     "text": [
      "exp3\n"
     ]
    },
    {
     "data": {
      "image/png": "[encoded data removed]",
      "text/plain": [
       "<Figure size 432x432 with 1 Axes>"
      ]
     },
     "metadata": {},
     "output_type": "display_data"
    }
   ],
   "source": [
    "## Unpack model files\n",
    "exp_lst = ['exp1', 'exp2', 'exp3']\n",
    "\n",
    "for exp in exp_lst:\n",
    "    model_file = os.path.join(sm_output_loc, exp, s3_output_fn)\n",
    "    print(exp)\n",
    "    plot_ftr_imp(model_file)"
   ]
  },
  {
   "cell_type": "markdown",
   "metadata": {},
   "source": [
    "Feature importance switched slightly as more data became available"
   ]
  },
  {
   "cell_type": "markdown",
   "metadata": {},
   "source": [
    "In the order of importance\n",
    "- f8 - number of clicks by ip, day, hr (ip, time, and day)\n",
    "- f13 - app frequency\n",
    "- f12 - number of clicks by ip, device, hr (ip, time, and device)\n",
    "- f3 - channel\n",
    "- f16 - channel freq (frequency with which the channel occurs in the dataset)\n",
    "- f0 - app (the app itself)\n",
    "- f7 - second (time is also important)\n",
    "- f10 - number of clicks by ip, hour and operating system (ip, time and os)"
   ]
  },
  {
   "cell_type": "code",
   "execution_count": 46,
   "metadata": {},
   "outputs": [
    {
     "data": {
      "text/plain": [
       "120000"
      ]
     },
     "execution_count": 46,
     "metadata": {},
     "output_type": "execute_result"
    }
   ],
   "source": [
    "test_data.shape[0]"
   ]
  },
  {
   "cell_type": "markdown",
   "metadata": {},
   "source": [
    "- Deploy each of the trained models for inference\n",
    "- Change data_loc to deploy pertinent model"
   ]
  },
  {
   "cell_type": "code",
   "execution_count": 11,
   "metadata": {},
   "outputs": [],
   "source": [
    "# predict whether the click will result in app download\n",
    "# deploy trained model in SageMaker\n",
    "\n",
    "# Use SageMaker Python SDK\n",
    "\n",
    "# Assign data location for each of the experiments and deploy all the 3 models\n",
    "\n",
    "#data_loc = 's3://ai-in-aws/Click-Fraud/output/exp1'\n",
    "\n",
    "#data_loc = 's3://ai-in-aws/Click-Fraud/output/exp2'\n",
    "\n",
    "data_loc = 's3://ai-in-aws/Click-Fraud/output/exp3'\n",
    "\n",
    "model_loc = os.path.join(data_loc, s3_output_fn)\n",
    "xgb_model = Model(model_data=model_loc, image=container, role=role)\n"
   ]
  },
  {
   "cell_type": "code",
   "execution_count": 12,
   "metadata": {},
   "outputs": [
    {
     "name": "stdout",
     "output_type": "stream",
     "text": [
      "----------------------------------------------------------------------------------------------------!"
     ]
    }
   ],
   "source": [
    "xgb_model.deploy(initial_instance_count=1,\n",
    "                           instance_type='ml.m4.xlarge')"
   ]
  },
  {
   "cell_type": "markdown",
   "metadata": {},
   "source": [
    "### Inferences\n",
    "Run inferences across all the three endpoints. Take a note of endpoints and update the endpoint_lst below"
   ]
  },
  {
   "cell_type": "code",
   "execution_count": 28,
   "metadata": {},
   "outputs": [
    {
     "name": "stdout",
     "output_type": "stream",
     "text": [
      "For exp1 auc is 0.8057, accuracy is 0.9858, and confusion matrix is [[5910   82]\n",
      " [   3    5]]\n",
      "For exp2 auc is 0.8074, accuracy is 0.9893, and confusion matrix is [[5931   61]\n",
      " [   3    5]]\n",
      "For exp3 auc is 0.8684, accuracy is 0.9865, and confusion matrix is [[5913   79]\n",
      " [   2    6]]\n"
     ]
    }
   ],
   "source": [
    "# Get the deployed endpoint names \n",
    "\n",
    "enpoint_lst = ['xgboost-2019-06-24-15-22-33-935' , 'xgboost-2019-06-24-15-31-29-918', 'xgboost-2019-06-24-15-40-47-429']  #exp1, exp2, exp3\n",
    "predictions = {}\n",
    "\n",
    "for ind, endpoint in enumerate(enpoint_lst):\n",
    "    xgb_predictor = sagemaker.predictor.RealTimePredictor(endpoint, sagemaker_session=sess, serializer=csv_serializer, deserializer=None, content_type='text/csv', accept=None)\n",
    "    predictions[exp_lst[ind]] = xgb_predictor.predict(test_data.values[:6000, 1:]).decode('utf-8')\n",
    "    predictions[exp_lst[ind]] = np.fromstring(predictions[exp_lst[ind]][1:], sep=',') #A new 1-D array initialized from text data in a string.\n",
    "#     pd.crosstab(index=test_data.as_matrix()[:10000, 0], columns=np.round(predictions[exp_lst[ind]]), rownames=['actual'], colnames=['predictions'])\n",
    "#     plt.hist(predictions1)\n",
    "#     plt.show()\n",
    "    c_mat = confusion_matrix(test_data.values[:6000, 0], np.round(predictions[exp_lst[ind]])) ## Predicted vs. actual outcome\n",
    "    accuracy = round(accuracy_score(test_data.values[:6000, 0], np.round(predictions[exp_lst[ind]])), 4) ## Overall accuracy\n",
    "    auc = round(roc_auc_score(test_data.values[:6000, 0], np.round(predictions[exp_lst[ind]])), 4)\n",
    "    print('For {} auc is {}, accuracy is {}, and confusion matrix is {}'.format(exp_lst[ind], auc, accuracy, c_mat))"
   ]
  },
  {
   "cell_type": "code",
   "execution_count": 99,
   "metadata": {},
   "outputs": [
    {
     "data": {
      "text/plain": [
       "<matplotlib.axes._subplots.AxesSubplot at 0x7f1c667e7b38>"
      ]
     },
     "execution_count": 99,
     "metadata": {},
     "output_type": "execute_result"
    },
    {
     "data": {
      "image/png": "[encoded data removed]",
      "text/plain": [
       "<Figure size 432x288 with 2 Axes>"
      ]
     },
     "metadata": {},
     "output_type": "display_data"
    }
   ],
   "source": [
    "Index= ['AUC', 'Accuracy']\n",
    "df_model_perf = pd.DataFrame({'Experiment1': [0.8057, 0.986], 'Experiment2': [0.8074, 0.9889], 'Experiment3': [0.8684, 0.9861]}, index=Index)\n",
    "\n",
    "sns.heatmap(df_model_perf, annot=True, fmt='.4g')\n"
   ]
  },
  {
   "cell_type": "markdown",
   "metadata": {},
   "source": [
    "As can be seen above, it is important to establish feedback loop in machine learning life cycle to learn in real time dynamic patterns in data"
   ]
  },
  {
   "cell_type": "code",
   "execution_count": null,
   "metadata": {},
   "outputs": [],
   "source": []
  }
 ],
 "metadata": {
  "kernelspec": {
   "display_name": "conda_mxnet_p36",
   "language": "python",
   "name": "conda_mxnet_p36"
  },
  "language_info": {
   "codemirror_mode": {
    "name": "ipython",
    "version": 3
   },
   "file_extension": ".py",
   "mimetype": "text/x-python",
   "name": "python",
   "nbconvert_exporter": "python",
   "pygments_lexer": "ipython3",
   "version": "3.6.5"
  }
 },
 "nbformat": 4,
 "nbformat_minor": 2
}
