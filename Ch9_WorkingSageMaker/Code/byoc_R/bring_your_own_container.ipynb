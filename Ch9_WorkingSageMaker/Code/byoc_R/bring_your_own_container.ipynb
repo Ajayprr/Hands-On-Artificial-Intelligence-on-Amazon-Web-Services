{
 "cells": [
  {
   "cell_type": "markdown",
   "metadata": {},
   "source": [
    "### Bring Your Own Container: Recommend top 5 books for new users using R\n",
    "\n",
    "The goal of this notebook is to illustrate how you can train and host R model seamlessly in Amazon SageMaker. In other words, we will through the process of bringing your own docker container to Amazon SageMaker. Rather than reinventing the wheel of training and hosting ML models using SageMaker's built-in algorithms, data scientists and machine learning engineers can re-use their work done in R in SageMaker"
   ]
  },
  {
   "cell_type": "code",
   "execution_count": 77,
   "metadata": {},
   "outputs": [],
   "source": [
    "import pandas as pd\n",
    "import boto3\n",
    "import os\n",
    "import time\n",
    "import json\n",
    "from sagemaker import get_execution_role"
   ]
  },
  {
   "cell_type": "markdown",
   "metadata": {},
   "source": [
    "### Prepare Dataset\n",
    "We will first begin by preparing the dataset. The ClndBookRatings.csv is generated from the notebook object2vec_bookratings_reco.ipynb. We will further refine this dataset by only selecting users who have rated greater than 100 books"
   ]
  },
  {
   "cell_type": "code",
   "execution_count": 78,
   "metadata": {},
   "outputs": [],
   "source": [
    "ip_fn = 'ClndBookRatings.csv' # outliers are removed - remove books with zero ratings\n",
    "op_fn = 'train_test_bkratings_r.csv' #output file name\n",
    "bkratings = pd.read_csv(ip_fn)"
   ]
  },
  {
   "cell_type": "code",
   "execution_count": 4,
   "metadata": {},
   "outputs": [
    {
     "data": {
      "text/html": [
       "<div>\n",
       "<style scoped>\n",
       "    .dataframe tbody tr th:only-of-type {\n",
       "        vertical-align: middle;\n",
       "    }\n",
       "\n",
       "    .dataframe tbody tr th {\n",
       "        vertical-align: top;\n",
       "    }\n",
       "\n",
       "    .dataframe thead th {\n",
       "        text-align: right;\n",
       "    }\n",
       "</style>\n",
       "<table border=\"1\" class=\"dataframe\">\n",
       "  <thead>\n",
       "    <tr style=\"text-align: right;\">\n",
       "      <th></th>\n",
       "      <th>ISBN</th>\n",
       "      <th>UserID</th>\n",
       "      <th>BookRating</th>\n",
       "      <th>BookTitle</th>\n",
       "      <th>user_ind</th>\n",
       "      <th>book_ind</th>\n",
       "    </tr>\n",
       "  </thead>\n",
       "  <tbody>\n",
       "    <tr>\n",
       "      <th>0</th>\n",
       "      <td>0060160772</td>\n",
       "      <td>275922</td>\n",
       "      <td>10</td>\n",
       "      <td>Peace, Love and Healing: Bodymind Communicatio...</td>\n",
       "      <td>0</td>\n",
       "      <td>0</td>\n",
       "    </tr>\n",
       "    <tr>\n",
       "      <th>1</th>\n",
       "      <td>0060160772</td>\n",
       "      <td>128835</td>\n",
       "      <td>10</td>\n",
       "      <td>Peace, Love and Healing: Bodymind Communicatio...</td>\n",
       "      <td>1</td>\n",
       "      <td>0</td>\n",
       "    </tr>\n",
       "    <tr>\n",
       "      <th>2</th>\n",
       "      <td>0446519138</td>\n",
       "      <td>275922</td>\n",
       "      <td>10</td>\n",
       "      <td>Simple Abundance:  A Daybook of Comfort and Joy</td>\n",
       "      <td>0</td>\n",
       "      <td>2576</td>\n",
       "    </tr>\n",
       "    <tr>\n",
       "      <th>3</th>\n",
       "      <td>0446519138</td>\n",
       "      <td>267326</td>\n",
       "      <td>9</td>\n",
       "      <td>Simple Abundance:  A Daybook of Comfort and Joy</td>\n",
       "      <td>6</td>\n",
       "      <td>2576</td>\n",
       "    </tr>\n",
       "    <tr>\n",
       "      <th>4</th>\n",
       "      <td>0446519138</td>\n",
       "      <td>16795</td>\n",
       "      <td>8</td>\n",
       "      <td>Simple Abundance:  A Daybook of Comfort and Joy</td>\n",
       "      <td>11</td>\n",
       "      <td>2576</td>\n",
       "    </tr>\n",
       "  </tbody>\n",
       "</table>\n",
       "</div>"
      ],
      "text/plain": [
       "         ISBN  UserID  BookRating  \\\n",
       "0  0060160772  275922          10   \n",
       "1  0060160772  128835          10   \n",
       "2  0446519138  275922          10   \n",
       "3  0446519138  267326           9   \n",
       "4  0446519138   16795           8   \n",
       "\n",
       "                                           BookTitle  user_ind  book_ind  \n",
       "0  Peace, Love and Healing: Bodymind Communicatio...         0         0  \n",
       "1  Peace, Love and Healing: Bodymind Communicatio...         1         0  \n",
       "2    Simple Abundance:  A Daybook of Comfort and Joy         0      2576  \n",
       "3    Simple Abundance:  A Daybook of Comfort and Joy         6      2576  \n",
       "4    Simple Abundance:  A Daybook of Comfort and Joy        11      2576  "
      ]
     },
     "execution_count": 4,
     "metadata": {},
     "output_type": "execute_result"
    }
   ],
   "source": [
    "bkratings.head()"
   ]
  },
  {
   "cell_type": "code",
   "execution_count": 14,
   "metadata": {},
   "outputs": [],
   "source": [
    "# short list users who have rated at least 100 books\n",
    "grp_bkratings = bkratings.groupby('user_ind')\n",
    "fil_bkratings = grp_bkratings.filter(lambda x: x['book_ind'].count() >=100)"
   ]
  },
  {
   "cell_type": "code",
   "execution_count": 19,
   "metadata": {},
   "outputs": [
    {
     "data": {
      "text/html": [
       "<div>\n",
       "<style scoped>\n",
       "    .dataframe tbody tr th:only-of-type {\n",
       "        vertical-align: middle;\n",
       "    }\n",
       "\n",
       "    .dataframe tbody tr th {\n",
       "        vertical-align: top;\n",
       "    }\n",
       "\n",
       "    .dataframe thead th {\n",
       "        text-align: right;\n",
       "    }\n",
       "</style>\n",
       "<table border=\"1\" class=\"dataframe\">\n",
       "  <thead>\n",
       "    <tr style=\"text-align: right;\">\n",
       "      <th></th>\n",
       "      <th>ISBN</th>\n",
       "      <th>UserID</th>\n",
       "      <th>BookRating</th>\n",
       "      <th>BookTitle</th>\n",
       "      <th>user_ind</th>\n",
       "      <th>book_ind</th>\n",
       "    </tr>\n",
       "  </thead>\n",
       "  <tbody>\n",
       "    <tr>\n",
       "      <th>1</th>\n",
       "      <td>0060160772</td>\n",
       "      <td>128835</td>\n",
       "      <td>10</td>\n",
       "      <td>Peace, Love and Healing: Bodymind Communicatio...</td>\n",
       "      <td>1</td>\n",
       "      <td>0</td>\n",
       "    </tr>\n",
       "    <tr>\n",
       "      <th>4</th>\n",
       "      <td>0446519138</td>\n",
       "      <td>16795</td>\n",
       "      <td>8</td>\n",
       "      <td>Simple Abundance:  A Daybook of Comfort and Joy</td>\n",
       "      <td>11</td>\n",
       "      <td>2576</td>\n",
       "    </tr>\n",
       "    <tr>\n",
       "      <th>5</th>\n",
       "      <td>0446519138</td>\n",
       "      <td>11676</td>\n",
       "      <td>8</td>\n",
       "      <td>Simple Abundance:  A Daybook of Comfort and Joy</td>\n",
       "      <td>47</td>\n",
       "      <td>2576</td>\n",
       "    </tr>\n",
       "    <tr>\n",
       "      <th>6</th>\n",
       "      <td>0446519138</td>\n",
       "      <td>46398</td>\n",
       "      <td>6</td>\n",
       "      <td>Simple Abundance:  A Daybook of Comfort and Joy</td>\n",
       "      <td>57</td>\n",
       "      <td>2576</td>\n",
       "    </tr>\n",
       "    <tr>\n",
       "      <th>12</th>\n",
       "      <td>0446519138</td>\n",
       "      <td>21014</td>\n",
       "      <td>9</td>\n",
       "      <td>Simple Abundance:  A Daybook of Comfort and Joy</td>\n",
       "      <td>745</td>\n",
       "      <td>2576</td>\n",
       "    </tr>\n",
       "  </tbody>\n",
       "</table>\n",
       "</div>"
      ],
      "text/plain": [
       "          ISBN  UserID  BookRating  \\\n",
       "1   0060160772  128835          10   \n",
       "4   0446519138   16795           8   \n",
       "5   0446519138   11676           8   \n",
       "6   0446519138   46398           6   \n",
       "12  0446519138   21014           9   \n",
       "\n",
       "                                            BookTitle  user_ind  book_ind  \n",
       "1   Peace, Love and Healing: Bodymind Communicatio...         1         0  \n",
       "4     Simple Abundance:  A Daybook of Comfort and Joy        11      2576  \n",
       "5     Simple Abundance:  A Daybook of Comfort and Joy        47      2576  \n",
       "6     Simple Abundance:  A Daybook of Comfort and Joy        57      2576  \n",
       "12    Simple Abundance:  A Daybook of Comfort and Joy       745      2576  "
      ]
     },
     "execution_count": 19,
     "metadata": {},
     "output_type": "execute_result"
    }
   ],
   "source": [
    "fil_bkratings.head()"
   ]
  },
  {
   "cell_type": "code",
   "execution_count": 22,
   "metadata": {},
   "outputs": [],
   "source": [
    "sel_bkratings = fil_bkratings[['user_ind', 'book_ind', 'BookRating']]\n",
    "sel_bkratings.to_csv(op_fn, header='true', index=False)"
   ]
  },
  {
   "cell_type": "markdown",
   "metadata": {},
   "source": [
    "### Setup Permissions to publish docker image to EC2ContainerRegistry (ECR)"
   ]
  },
  {
   "cell_type": "code",
   "execution_count": 12,
   "metadata": {},
   "outputs": [],
   "source": [
    "bucket = 'ai-in-aws'\n",
    "prefix = 'sagemaker/byoc-r'\n",
    " \n",
    "# Define IAM role\n",
    "role = get_execution_role()"
   ]
  },
  {
   "cell_type": "code",
   "execution_count": 4,
   "metadata": {},
   "outputs": [
    {
     "data": {
      "text/plain": [
       "'arn:aws:iam::109099157774:role/service-role/AmazonSageMaker-ExecutionRole-20180923T113724'"
      ]
     },
     "execution_count": 4,
     "metadata": {},
     "output_type": "execute_result"
    }
   ],
   "source": [
    "role"
   ]
  },
  {
   "cell_type": "markdown",
   "metadata": {},
   "source": [
    "For the SageMakerExecutionRole-20180923T113724 IAM role, you will need both SageMakerFullAccess and AmazonEC2ContainerRegistryFullAccess permissions. Navigate to IAM service, select Roles on the left navigation pane, and search for SageMakerExecutionRole-20180923T113724. And then attach AmazonEC2ContainerRegistryFullAccess policy to the role."
   ]
  },
  {
   "cell_type": "markdown",
   "metadata": {},
   "source": [
    "### Publish local docker image to ECR\n",
    "\n",
    "We will create docker image on the local EC2 instance and then publish it to ECR"
   ]
  },
  {
   "cell_type": "code",
   "execution_count": null,
   "metadata": {},
   "outputs": [],
   "source": [
    "%%sh\n",
    "\n",
    "# The name of our algorithm\n",
    "algorithm_name=cosinesimilarity\n",
    "\n",
    "#Get current account \n",
    "\n",
    "account=$(aws sts get-caller-identity --query Account --output text)\n",
    "\n",
    "# Get the region defined in the current configuration. Default is us-east-1\n",
    "region=$(aws configure get region)\n",
    "region=${region:-us-east-1}\n",
    "\n",
    "fullname=\"${account}.dkr.ecr.${region}.amazonaws.com/${algorithm_name}:latest\"\n",
    "\n",
    "# If the repository doesn't exist in ECR, create it.\n",
    "\n",
    "aws ecr describe-repositories --repository-names \"${algorithm_name}\" > /dev/null 2>&1\n",
    "\n",
    "if [ $? -ne 0 ]\n",
    "then\n",
    "    aws ecr create-repository --repository-name \"${algorithm_name}\" > /dev/null\n",
    "fi\n",
    "\n",
    "# Get the login command from ECR and execute it directly\n",
    "$(aws ecr get-login --region ${region} --no-include-email)\n",
    "\n",
    "# Build the docker image locally with the image name and then push it to ECR\n",
    "# with the full name.\n",
    "# Dockerfile is defined in the current directory\n",
    "docker build  -t ${algorithm_name} .\n",
    "docker tag ${algorithm_name} ${fullname}\n",
    "\n",
    "docker push ${fullname}"
   ]
  },
  {
   "cell_type": "markdown",
   "metadata": {},
   "source": [
    "### Train the Recommender model on user book ratings\n",
    "We will start my pushing processed user book ratings to s3 bucket"
   ]
  },
  {
   "cell_type": "code",
   "execution_count": 15,
   "metadata": {},
   "outputs": [],
   "source": [
    "boto3.Session().resource('s3').Bucket(bucket).Object(os.path.join(prefix, 'train', op_fn)).upload_file(op_fn)"
   ]
  },
  {
   "cell_type": "code",
   "execution_count": 20,
   "metadata": {},
   "outputs": [],
   "source": [
    "region = boto3.Session().region_name\n",
    "account = boto3.client('sts').get_caller_identity().get('Account')"
   ]
  },
  {
   "cell_type": "markdown",
   "metadata": {},
   "source": [
    "#### Create Training Parameters"
   ]
  },
  {
   "cell_type": "code",
   "execution_count": 70,
   "metadata": {},
   "outputs": [
    {
     "name": "stdout",
     "output_type": "stream",
     "text": [
      "Training job BYOC-r2019-06-02-22-27-23\n"
     ]
    }
   ],
   "source": [
    "r_job = 'BYOC-r' + time.strftime(\"%Y-%m-%d-%H-%M-%S\", time.gmtime())\n",
    "\n",
    "print(\"Training job\", r_job)\n",
    "\n",
    "r_training_params = {\n",
    "    \"RoleArn\": role,\n",
    "    \"TrainingJobName\": r_job,\n",
    "    \"AlgorithmSpecification\": {\n",
    "        \"TrainingImage\": '{}.dkr.ecr.{}.amazonaws.com/cosinesimilarity:latest'.format(account, region),\n",
    "        \"TrainingInputMode\": \"File\"\n",
    "    },\n",
    "    \"ResourceConfig\": {\n",
    "        \"InstanceCount\": 1,\n",
    "        \"InstanceType\": \"ml.m4.xlarge\",\n",
    "        \"VolumeSizeInGB\": 10\n",
    "    },\n",
    "    \"InputDataConfig\": [\n",
    "        {\n",
    "            \"ChannelName\": \"train\",\n",
    "            \"DataSource\": {\n",
    "                \"S3DataSource\": {\n",
    "                    \"S3DataType\": \"S3Prefix\",\n",
    "                    \"S3Uri\": \"s3://{}/{}/train\".format(bucket, prefix),\n",
    "                    \"S3DataDistributionType\": \"FullyReplicated\"\n",
    "                }\n",
    "            },\n",
    "            \"CompressionType\": \"None\",\n",
    "            \"RecordWrapperType\": \"None\"\n",
    "        }\n",
    "    ],\n",
    "    \"OutputDataConfig\": {\n",
    "        \"S3OutputPath\": \"s3://{}/{}/output\".format(bucket, prefix)\n",
    "    },\n",
    "    \"HyperParameters\": {\n",
    "        \"method\": \"Cosine\",\n",
    "        \"nn\": \"10\",\n",
    "        \"n_users\": \"190\"\n",
    "    },\n",
    "    \"StoppingCondition\": {\n",
    "        \"MaxRuntimeInSeconds\": 60 * 60\n",
    "    }\n",
    "}"
   ]
  },
  {
   "cell_type": "markdown",
   "metadata": {},
   "source": [
    "#### Create Training Job"
   ]
  },
  {
   "cell_type": "code",
   "execution_count": 71,
   "metadata": {},
   "outputs": [
    {
     "name": "stdout",
     "output_type": "stream",
     "text": [
      "InProgress\n",
      "Training job ended with status: Completed\n",
      "CPU times: user 67.4 ms, sys: 0 ns, total: 67.4 ms\n",
      "Wall time: 4min\n"
     ]
    }
   ],
   "source": [
    "%%time\n",
    "\n",
    "sm = boto3.client('sagemaker')\n",
    "sm.create_training_job(**r_training_params)\n",
    "\n",
    "status = sm.describe_training_job(TrainingJobName=r_job)['TrainingJobStatus']\n",
    "print(status)\n",
    "sm.get_waiter('training_job_completed_or_stopped').wait(TrainingJobName=r_job)\n",
    "status = sm.describe_training_job(TrainingJobName=r_job)['TrainingJobStatus']\n",
    "print(\"Training job ended with status: \" + status)\n",
    "if status == 'Failed':\n",
    "    message = sm.describe_training_job(TrainingJobName=r_job)['FailureReason']\n",
    "    print('Training failed with the following error: {}'.format(message))\n",
    "    raise Exception('Training job failed')"
   ]
  },
  {
   "cell_type": "markdown",
   "metadata": {},
   "source": [
    "#### Create Model\n",
    "Let's create a model from the training job, pointing to the docker image in ECR and the model artifacts resulting from training job "
   ]
  },
  {
   "cell_type": "code",
   "execution_count": 72,
   "metadata": {},
   "outputs": [
    {
     "name": "stdout",
     "output_type": "stream",
     "text": [
      "arn:aws:sagemaker:us-east-1:109099157774:model/byoc-r2019-06-02-22-27-23\n"
     ]
    }
   ],
   "source": [
    "r_hosting_container = {\n",
    "    'Image': '{}.dkr.ecr.{}.amazonaws.com/cosinesimilarity:latest'.format(account, region),\n",
    "    'ModelDataUrl': sm.describe_training_job(TrainingJobName=r_job)['ModelArtifacts']['S3ModelArtifacts']\n",
    "}\n",
    "\n",
    "create_model_response = sm.create_model(\n",
    "    ModelName=r_job,\n",
    "    ExecutionRoleArn=role,\n",
    "    PrimaryContainer=r_hosting_container)\n",
    "\n",
    "print(create_model_response['ModelArn'])"
   ]
  },
  {
   "cell_type": "code",
   "execution_count": 58,
   "metadata": {},
   "outputs": [
    {
     "data": {
      "text/plain": [
       "{'Image': '109099157774.dkr.ecr.us-east-1.amazonaws.com/cosinesimilarity:latest',\n",
       " 'ModelDataUrl': 's3://ai-in-aws/sagemaker/byoc-r/output/BYOC-r2019-06-02-21-28-51/output/model.tar.gz'}"
      ]
     },
     "execution_count": 58,
     "metadata": {},
     "output_type": "execute_result"
    }
   ],
   "source": [
    "r_hosting_container"
   ]
  },
  {
   "cell_type": "markdown",
   "metadata": {},
   "source": [
    "### Create Model EndPoint\n",
    "Define the type of infrastructure that needs to be spun up and the model that needs to be hosted on it. "
   ]
  },
  {
   "cell_type": "code",
   "execution_count": 73,
   "metadata": {},
   "outputs": [
    {
     "name": "stdout",
     "output_type": "stream",
     "text": [
      "BYOC-r-config-2019-06-02-22-32-11\n",
      "Endpoint Config Arn: arn:aws:sagemaker:us-east-1:109099157774:endpoint-config/byoc-r-config-2019-06-02-22-32-11\n"
     ]
    }
   ],
   "source": [
    "r_endpoint_config = 'BYOC-r-config-' + time.strftime(\"%Y-%m-%d-%H-%M-%S\", time.gmtime())\n",
    "print(r_endpoint_config)\n",
    "create_endpoint_config_response = sm.create_endpoint_config(\n",
    "    EndpointConfigName=r_endpoint_config,\n",
    "    ProductionVariants=[{\n",
    "        'InstanceType': 'ml.m4.xlarge',\n",
    "        'InitialInstanceCount': 1,\n",
    "        'ModelName': r_job,\n",
    "        'VariantName': 'AllTraffic'}])\n",
    "\n",
    "print(\"Endpoint Config Arn: \" + create_endpoint_config_response['EndpointConfigArn'])"
   ]
  },
  {
   "cell_type": "code",
   "execution_count": 74,
   "metadata": {},
   "outputs": [
    {
     "name": "stdout",
     "output_type": "stream",
     "text": [
      "BYOC-r-endpoint-201906022232\n",
      "arn:aws:sagemaker:us-east-1:109099157774:endpoint/byoc-r-endpoint-201906022232\n",
      "Status: Creating\n",
      "Arn: arn:aws:sagemaker:us-east-1:109099157774:endpoint/byoc-r-endpoint-201906022232\n",
      "Status: InService\n",
      "CPU times: user 211 ms, sys: 7.1 ms, total: 218 ms\n",
      "Wall time: 7min 32s\n"
     ]
    }
   ],
   "source": [
    "%%time\n",
    "\n",
    "r_endpoint = 'BYOC-r-endpoint-' + time.strftime(\"%Y%m%d%H%M\", time.gmtime())\n",
    "print(r_endpoint)\n",
    "create_endpoint_response = sm.create_endpoint(\n",
    "    EndpointName=r_endpoint,\n",
    "    EndpointConfigName=r_endpoint_config)\n",
    "print(create_endpoint_response['EndpointArn'])\n",
    "\n",
    "resp = sm.describe_endpoint(EndpointName=r_endpoint)\n",
    "status = resp['EndpointStatus']\n",
    "print(\"Status: \" + status)\n",
    "\n",
    "try:\n",
    "    sm.get_waiter('endpoint_in_service').wait(EndpointName=r_endpoint)\n",
    "finally:\n",
    "    resp = sm.describe_endpoint(EndpointName=r_endpoint)\n",
    "    status = resp['EndpointStatus']\n",
    "    print(\"Arn: \" + resp['EndpointArn'])\n",
    "    print(\"Status: \" + status)\n",
    "\n",
    "    if status != 'InService':\n",
    "        raise Exception('Endpoint creation did not succeed')"
   ]
  },
  {
   "cell_type": "markdown",
   "metadata": {},
   "source": [
    "### Inferences: Invoke Endpoint\n",
    "Get top 5 recommendations of user 192"
   ]
  },
  {
   "cell_type": "code",
   "execution_count": 79,
   "metadata": {},
   "outputs": [
    {
     "data": {
      "text/plain": [
       "[['20445', '2399', '15876', '712', '959']]"
      ]
     },
     "execution_count": 79,
     "metadata": {},
     "output_type": "execute_result"
    }
   ],
   "source": [
    "ratings = pd.read_csv(op_fn)\n",
    "\n",
    "runtime = boto3.Session().client('runtime.sagemaker')\n",
    "\n",
    "payload =  ratings.to_csv(index=False) # get top 5 book recommendations for user 192 (Remember, we trained the model on the first 190 users)\n",
    "response = runtime.invoke_endpoint(EndpointName='BYOC-r-endpoint-201906022232', #r_endpoint\n",
    "                                   ContentType='text/csv',\n",
    "                                   Body=payload)\n",
    "\n",
    "result = json.loads(response['Body'].read().decode())\n",
    "result "
   ]
  },
  {
   "cell_type": "code",
   "execution_count": 87,
   "metadata": {},
   "outputs": [
    {
     "data": {
      "text/plain": [
       "3198                                     The Da Vinci Code\n",
       "4549                               A Prayer for Owen Meany\n",
       "19874                                       The Green Mile\n",
       "31847    The Price of Loyalty: George W. Bush, the Whit...\n",
       "31882                                     Dark Inheritance\n",
       "Name: BookTitle, dtype: object"
      ]
     },
     "execution_count": 87,
     "metadata": {},
     "output_type": "execute_result"
    }
   ],
   "source": [
    "# Retrieve book titles from book indexes\n",
    "\n",
    "bkratings[bkratings.book_ind.isin(result[0])]['BookTitle'].drop_duplicates()"
   ]
  }
 ],
 "metadata": {
  "kernelspec": {
   "display_name": "conda_python3",
   "language": "python",
   "name": "conda_python3"
  },
  "language_info": {
   "codemirror_mode": {
    "name": "ipython",
    "version": 3
   },
   "file_extension": ".py",
   "mimetype": "text/x-python",
   "name": "python",
   "nbconvert_exporter": "python",
   "pygments_lexer": "ipython3",
   "version": "3.6.5"
  }
 },
 "nbformat": 4,
 "nbformat_minor": 2
}
